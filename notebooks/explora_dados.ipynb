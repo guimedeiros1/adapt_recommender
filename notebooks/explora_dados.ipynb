{
 "cells": [
  {
   "cell_type": "markdown",
   "metadata": {
    "collapsed": true
   },
   "source": [
    "## Data Discovery"
   ]
  },
  {
   "cell_type": "code",
   "execution_count": 28,
   "metadata": {},
   "outputs": [
    {
     "data": {
      "text/plain": [
       "(759748, 4)"
      ]
     },
     "execution_count": 28,
     "metadata": {},
     "output_type": "execute_result"
    }
   ],
   "source": [
    "import pandas as pd\n",
    "\n",
    "#carrega os csvs para dataframes\n",
    "videos = pd.read_csv('../data/videos.csv', quotechar='\"', skipinitialspace=True)\n",
    "video_views = pd.read_csv('../data/video_views.csv', quotechar='\"', skipinitialspace=True)\n",
    "\n",
    "video_views.shape\n",
    "#video_views.usuario_id.unique().shape\n",
    "#video_views.video_id.unique().shape\n",
    "\n",
    "#videos.shape\n",
    "#videos.video_id.unique().shape\n",
    "#videos.programa_id.unique().shape"
   ]
  },
  {
   "cell_type": "markdown",
   "metadata": {},
   "source": [
    "## Select only the views that contains \"porcentagem_vista\" not negative and less than 100"
   ]
  },
  {
   "cell_type": "code",
   "execution_count": 29,
   "metadata": {},
   "outputs": [
    {
     "data": {
      "text/plain": [
       "(757834, 4)"
      ]
     },
     "execution_count": 29,
     "metadata": {},
     "output_type": "execute_result"
    }
   ],
   "source": [
    "#remove valores negativos e as visualizações acima de 100\n",
    "TEMP_video_views = video_views[(video_views.porcentagem_vista >= 0) & (video_views.porcentagem_vista < 100)]\n",
    "\n",
    "TEMP_video_views.shape"
   ]
  },
  {
   "cell_type": "markdown",
   "metadata": {},
   "source": [
    "## Select only the views that contains videos that also appears in videos.csv"
   ]
  },
  {
   "cell_type": "code",
   "execution_count": 30,
   "metadata": {},
   "outputs": [
    {
     "data": {
      "text/plain": [
       "(736282, 4)"
      ]
     },
     "execution_count": 30,
     "metadata": {},
     "output_type": "execute_result"
    }
   ],
   "source": [
    "#remove os vídeos que não estão presentes também no arquivo videos.csv\n",
    "NORM_video_views = TEMP_video_views[TEMP_video_views.video_id.isin(videos.video_id)]\n",
    "\n",
    "#grava arquivo csv\n",
    "NORM_video_views.to_csv('../data/norm_video_views.csv', index = False)\n",
    "\n",
    "NORM_video_views.shape"
   ]
  },
  {
   "cell_type": "markdown",
   "metadata": {},
   "source": [
    "## Check the percentage of users vs quantity of videos"
   ]
  },
  {
   "cell_type": "code",
   "execution_count": 31,
   "metadata": {},
   "outputs": [
    {
     "data": {
      "text/plain": [
       "1      59.041843\n",
       "2      14.367099\n",
       "3       6.919048\n",
       "4       4.351916\n",
       "5       2.809974\n",
       "6       2.050380\n",
       "7       1.564695\n",
       "8       1.242217\n",
       "9       0.921052\n",
       "10      0.797662\n",
       "11      0.654144\n",
       "12      0.595512\n",
       "13      0.527253\n",
       "14      0.410426\n",
       "15      0.376297\n",
       "16      0.315039\n",
       "17      0.280910\n",
       "18      0.238905\n",
       "19      0.203463\n",
       "20      0.191649\n",
       "21      0.158395\n",
       "22      0.153582\n",
       "23      0.121640\n",
       "24      0.119890\n",
       "25      0.117702\n",
       "26      0.097575\n",
       "27      0.084010\n",
       "28      0.080072\n",
       "29      0.080072\n",
       "30      0.072634\n",
       "         ...    \n",
       "130     0.000438\n",
       "129     0.000438\n",
       "139     0.000438\n",
       "134     0.000438\n",
       "266     0.000438\n",
       "132     0.000438\n",
       "136     0.000438\n",
       "131     0.000438\n",
       "125     0.000438\n",
       "179     0.000438\n",
       "147     0.000438\n",
       "148     0.000438\n",
       "122     0.000438\n",
       "121     0.000438\n",
       "118     0.000438\n",
       "242     0.000438\n",
       "113     0.000438\n",
       "101     0.000438\n",
       "93      0.000438\n",
       "213     0.000438\n",
       "204     0.000438\n",
       "196     0.000438\n",
       "194     0.000438\n",
       "170     0.000438\n",
       "168     0.000438\n",
       "673     0.000438\n",
       "158     0.000438\n",
       "153     0.000438\n",
       "152     0.000438\n",
       "128     0.000438\n",
       "dtype: float64"
      ]
     },
     "execution_count": 31,
     "metadata": {},
     "output_type": "execute_result"
    }
   ],
   "source": [
    "import time\n",
    "import matplotlib.pyplot as plt\n",
    "%matplotlib inline\n",
    "\n",
    "#agrupa pelos ids de usuário\n",
    "grouped_user = NORM_video_views.groupby(NORM_video_views.usuario_id)\n",
    "\n",
    "#verifica a quantidade de videos que cada usuário assistiu\n",
    "grouped_user_size = grouped_user.size() #utilizar essa informação para depois decidir se será feito filtragem colaborativa ou baseada em conteúdo\n",
    "\n",
    "#verifica a quantidade de videos visualizados vs a porcentagem de registros\n",
    "group_user_percentage = grouped_user_size.value_counts()/grouped_user_size.count()*100\n",
    "\n",
    "group_user_percentage\n",
    "\n",
    "# group_user_percentage.plot()\n",
    "# plt.title('Porcentagem de visualizações')\n",
    "# plt.xlabel('Dia');\n",
    "# plt.ylabel('Porcentagem de usuários');\n",
    "# plt.show()"
   ]
  },
  {
   "cell_type": "markdown",
   "metadata": {},
   "source": [
    "## Check the views per day"
   ]
  },
  {
   "cell_type": "code",
   "execution_count": 32,
   "metadata": {},
   "outputs": [
    {
     "name": "stderr",
     "output_type": "stream",
     "text": [
      "/home/guilherme/anaconda3/lib/python3.5/site-packages/pandas/core/generic.py:2701: SettingWithCopyWarning: \n",
      "A value is trying to be set on a copy of a slice from a DataFrame.\n",
      "Try using .loc[row_indexer,col_indexer] = value instead\n",
      "\n",
      "See the caveats in the documentation: http://pandas.pydata.org/pandas-docs/stable/indexing.html#indexing-view-versus-copy\n",
      "  self[name] = value\n"
     ]
    },
    {
     "data": {
      "image/png": "[encoded data removed]",
      "text/plain": [
       "<matplotlib.figure.Figure at 0x7f16f6d90da0>"
      ]
     },
     "metadata": {},
     "output_type": "display_data"
    }
   ],
   "source": [
    "#copia df para conversão de datas\n",
    "DATE_video_views = NORM_video_views\n",
    "\n",
    "#converte o dataframe de epoch para data\n",
    "DATE_video_views.ultima_visualizacao = pd.to_datetime(NORM_video_views.ultima_visualizacao, unit='ms')\n",
    "\n",
    "#agrupa pela data da ultima visualização (considerando-se apenas o dia)\n",
    "grouped_date = DATE_video_views.groupby(DATE_video_views.ultima_visualizacao.dt.date)\n",
    "\n",
    "grouped_date_size = grouped_date.size()\n",
    "\n",
    "grouped_date_size.plot(kind='bar')\n",
    "plt.title('Visualizações Diárias')\n",
    "plt.xlabel('Dia');\n",
    "plt.ylabel('Número de visualizações');\n",
    "plt.show()"
   ]
  },
  {
   "cell_type": "markdown",
   "metadata": {
    "collapsed": true
   },
   "source": [
    "## Create a cvs file to use with Collaborative Filtering"
   ]
  },
  {
   "cell_type": "code",
   "execution_count": 34,
   "metadata": {
    "scrolled": false
   },
   "outputs": [
    {
     "name": "stderr",
     "output_type": "stream",
     "text": [
      "/home/guilherme/anaconda3/lib/python3.5/site-packages/pandas/core/indexing.py:465: SettingWithCopyWarning: \n",
      "A value is trying to be set on a copy of a slice from a DataFrame.\n",
      "Try using .loc[row_indexer,col_indexer] = value instead\n",
      "\n",
      "See the caveats in the documentation: http://pandas.pydata.org/pandas-docs/stable/indexing.html#indexing-view-versus-copy\n",
      "  self.obj[item] = s\n",
      "/home/guilherme/anaconda3/lib/python3.5/site-packages/pandas/core/generic.py:2701: SettingWithCopyWarning: \n",
      "A value is trying to be set on a copy of a slice from a DataFrame.\n",
      "Try using .loc[row_indexer,col_indexer] = value instead\n",
      "\n",
      "See the caveats in the documentation: http://pandas.pydata.org/pandas-docs/stable/indexing.html#indexing-view-versus-copy\n",
      "  self[name] = value\n"
     ]
    },
    {
     "name": "stdout",
     "output_type": "stream",
     "text": [
      "Preparando a indexação da matriz, isso pode levar uns minutinhos, mas só necessita ser feito uma vez...\n",
      "Só mais um pouquinho =)\n",
      "Matriz indexada!\n"
     ]
    },
    {
     "data": {
      "text/plain": [
       "(187737, 4)"
      ]
     },
     "execution_count": 34,
     "metadata": {},
     "output_type": "execute_result"
    }
   ],
   "source": [
    "#seleciona somente os usuários com 20 ou mais visualizações\n",
    "CF_user = grouped_user_size[grouped_user_size.values >= 20]\n",
    "\n",
    "#copia somente dados dos usuários que possuem pelo menos 20 views\n",
    "CF_video_views = NORM_video_views[NORM_video_views.usuario_id.isin(CF_user.index)]\n",
    "\n",
    "#cria um sistema de notas para a porcentagem vista\n",
    "#se o usuário assistiu o vídeo 2 vezes ou mais, então ele gostou muito, nota = 3\n",
    "CF_video_views.loc[CF_video_views.porcentagem_vista >= 2.0, 'porcentagem_vista'] = 3\n",
    "\n",
    "#se o usuário assistiu x% do vídeo com 70% <= x < 200%, então o usuário gostou do vídeo, nota = 2\n",
    "CF_video_views.loc[(CF_video_views.porcentagem_vista >= 0.7) & (CF_video_views.porcentagem_vista < 2.0), 'porcentagem_vista'] = 2\n",
    "\n",
    "#se o usuário assistiu menos de 70% do vídeo, ele não gostou muito, nota = 1\n",
    "CF_video_views.loc[CF_video_views.porcentagem_vista < 0.7, 'porcentagem_vista'] = 1\n",
    "\n",
    "#verifica a quantidade de usuários (rows) e vídeos (columns) distintos para configurar a matriz de ratings\n",
    "rows = CF_video_views.usuario_id.unique()\n",
    "columns = CF_video_views.video_id.unique()\n",
    "\n",
    "print(\"Preparando a indexação da matriz, isso pode levar uns minutinhos, mas só necessita ser feito uma vez...\")\n",
    "\n",
    "#mapeia os ids de usuário e vídeo para indices inteiros a serem utilizados na matriz de ratings\n",
    "#esse mapeamento é realizado para facilitar a indexação no restante do código\n",
    "for y in range(columns.shape[0]):\n",
    "    CF_video_views.video_id = CF_video_views.video_id.replace(columns[y], y)\n",
    "\n",
    "print(\"Só mais um pouquinho =)\")\n",
    "\n",
    "for x in range(rows.shape[0]):\n",
    "    CF_video_views.usuario_id = CF_video_views.usuario_id.replace(rows[x], x)\n",
    "\n",
    "print(\"Matriz indexada!\")\n",
    "\n",
    "#grava arquivos csv\n",
    "rows = pd.DataFrame(data=rows)\n",
    "columns = pd.DataFrame(data=columns)\n",
    "rows.to_csv('../data/rows.csv')\n",
    "columns.to_csv('../data/columns.csv')\n",
    "CF_video_views.to_csv('../data/sgd_video_views.csv', index = False)\n",
    "\n",
    "CF_video_views.shape"
   ]
  },
  {
   "cell_type": "code",
   "execution_count": 23,
   "metadata": {},
   "outputs": [
    {
     "name": "stdout",
     "output_type": "stream",
     "text": [
      "(2283,)\n",
      "(228543,)\n"
     ]
    }
   ],
   "source": []
  },
  {
   "cell_type": "code",
   "execution_count": null,
   "metadata": {
    "collapsed": true
   },
   "outputs": [],
   "source": []
  }
 ],
 "metadata": {
  "anaconda-cloud": {},
  "kernelspec": {
   "display_name": "Python 3",
   "language": "python",
   "name": "python3"
  },
  "language_info": {
   "codemirror_mode": {
    "name": "ipython",
    "version": 3
   },
   "file_extension": ".py",
   "mimetype": "text/x-python",
   "name": "python",
   "nbconvert_exporter": "python",
   "pygments_lexer": "ipython3",
   "version": "3.6.1"
  }
 },
 "nbformat": 4,
 "nbformat_minor": 1
}

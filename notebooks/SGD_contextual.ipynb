{
 "cells": [
  {
   "cell_type": "markdown",
   "metadata": {},
   "source": [
    "## Preprocessing"
   ]
  },
  {
   "cell_type": "code",
   "execution_count": 1,
   "metadata": {},
   "outputs": [
    {
     "name": "stdout",
     "output_type": "stream",
     "text": [
      "Number of users = 943 | Number of movies = 1682\n"
     ]
    }
   ],
   "source": [
    "import numpy as np\n",
    "import pandas as pd\n",
    "#header = ['userid', 'itemid', 'rating', 'time', 'location', 'companion', 'c']\n",
    "df = pd.read_csv('./data/movies_context.csv', sep=',', skipinitialspace=True)\n",
    "n_users = df.userId.unique().shape[0]\n",
    "n_items = df.movieId.unique().shape[0]\n",
    "print('Number of users = ' + str(n_users) + ' | Number of movies = ' + str(n_items))"
   ]
  },
  {
   "cell_type": "code",
   "execution_count": 2,
   "metadata": {},
   "outputs": [
    {
     "data": {
      "text/plain": [
       "3.085978829605393"
      ]
     },
     "execution_count": 2,
     "metadata": {},
     "output_type": "execute_result"
    }
   ],
   "source": [
    "#get the item's rating mean\n",
    "\n",
    "# df.rating = pd.to_numeric(df.rating, downcast = 'integer', errors='coerce')\n",
    "\n",
    "items_mean = df.groupby(['movieId'])['rating'].mean()\n",
    "items_mean.mean()"
   ]
  },
  {
   "cell_type": "code",
   "execution_count": 3,
   "metadata": {},
   "outputs": [
    {
     "data": {
      "text/plain": [
       "0.04849886035589483"
      ]
     },
     "execution_count": 3,
     "metadata": {},
     "output_type": "execute_result"
    }
   ],
   "source": [
    "#get the user bias\n",
    "\n",
    "users_mean = df.groupby(['userId'])['rating'].mean()\n",
    "\n",
    "overall_mean = df.rating.mean()\n",
    "\n",
    "users_bias = users_mean - overall_mean\n",
    "\n",
    "users_bias.mean()"
   ]
  },
  {
   "cell_type": "code",
   "execution_count": 4,
   "metadata": {},
   "outputs": [],
   "source": [
    "# #get specific user bias (baseline)\n",
    "\n",
    "# def user_bias(user):\n",
    "#     u_index = users_mean.index.get_loc(user) #get integer index through the label index\n",
    "#     u_mean = users_mean[u_index] #get user mean\n",
    "#     u_bias = u_mean - overall_mean #compute user bias\n",
    "#     return(u_bias)"
   ]
  },
  {
   "cell_type": "code",
   "execution_count": 5,
   "metadata": {},
   "outputs": [
    {
     "data": {
      "text/plain": [
       "0.0027524037553050937"
      ]
     },
     "execution_count": 5,
     "metadata": {},
     "output_type": "execute_result"
    }
   ],
   "source": [
    "#get the contextual factor bias CAMF-CCI (na verdade eu teria que fazer a influencia de cada \n",
    "# valor contextual sobre o item e nao de cada categoria de contexto sobre o item CAMF-CCI é uma adap de CAMF-CI)\n",
    "\n",
    "items_bias = df.groupby(['movieId'])['c'].mean()\n",
    "\n",
    "total_mean_bias = items_mean.mean()+users_bias.mean()+items_bias.mean()\n",
    "\n",
    "items_bias.mean()"
   ]
  },
  {
   "cell_type": "code",
   "execution_count": 6,
   "metadata": {},
   "outputs": [
    {
     "name": "stderr",
     "output_type": "stream",
     "text": [
      "/home/guilherme/anaconda3/lib/python3.6/site-packages/sklearn/cross_validation.py:44: DeprecationWarning: This module was deprecated in version 0.18 in favor of the model_selection module into which all the refactored classes and functions are moved. Also note that the interface of the new CV iterators are different from that of this module. This module will be removed in 0.20.\n",
      "  \"This module will be removed in 0.20.\", DeprecationWarning)\n"
     ]
    }
   ],
   "source": [
    "from sklearn import cross_validation as cv\n",
    "train_data, test_data = cv.train_test_split(df,test_size=0.25)\n",
    "\n",
    "train_data = pd.DataFrame(train_data)\n",
    "test_data = pd.DataFrame(test_data)"
   ]
  },
  {
   "cell_type": "code",
   "execution_count": 7,
   "metadata": {},
   "outputs": [],
   "source": [
    "# Create training and test matrix\n",
    "R = np.zeros((n_users, n_items))\n",
    "R.shape\n",
    "for line in train_data.itertuples():\n",
    "    R[line[1]-1, line[2]-1] = line[3]\n",
    "\n",
    "T = np.zeros((n_users, n_items))\n",
    "for line in test_data.itertuples():\n",
    "    T[line[1]-1, line[2]-1] = line[3]"
   ]
  },
  {
   "cell_type": "code",
   "execution_count": 8,
   "metadata": {
    "collapsed": true
   },
   "outputs": [],
   "source": [
    "# Index matrix for training data\n",
    "I = R.copy()\n",
    "I[I > 0] = 1\n",
    "I[I == 0] = 0\n",
    "\n",
    "# Index matrix for test data\n",
    "I2 = T.copy()\n",
    "I2[I2 > 0] = 1\n",
    "I2[I2 == 0] = 0"
   ]
  },
  {
   "cell_type": "code",
   "execution_count": 9,
   "metadata": {
    "collapsed": true
   },
   "outputs": [],
   "source": [
    "# Predict the unknown ratings through the dot product of the latent features for users and items \n",
    "def prediction(P,Q,IM,UB,IB):\n",
    "    return (np.dot(P.T,Q)+IM+UB+IB)"
   ]
  },
  {
   "cell_type": "code",
   "execution_count": 10,
   "metadata": {},
   "outputs": [],
   "source": [
    "lmbda = 0.2 # Regularisation weight\n",
    "k = 20  # Dimensionality of the latent feature space\n",
    "m, n = R.shape  # Number of users and items\n",
    "n_epochs = 100  # Number of epochs\n",
    "gamma=0.001  # Learning rate\n",
    "\n",
    "P = 3 * np.random.rand(k,m) # Latent user feature matrix\n",
    "Q = 3 * np.random.rand(k,n) # Latent movie feature matrix"
   ]
  },
  {
   "cell_type": "code",
   "execution_count": 11,
   "metadata": {},
   "outputs": [],
   "source": [
    "# Calculate the RMSE\n",
    "def rmse(I,R,Q,P):\n",
    "    return np.sqrt(np.sum((I * (R - (np.dot(P.T,Q)+total_mean_bias))**2)/len(R[R > 0])))"
   ]
  },
  {
   "cell_type": "code",
   "execution_count": 12,
   "metadata": {},
   "outputs": [
    {
     "name": "stdout",
     "output_type": "stream",
     "text": [
      "Epoch[1/100] Train error:5.40864267486-->Test error:5.98401860697\n",
      "Epoch[2/100] Train error:3.84316339317-->Test error:4.5072692893\n",
      "Epoch[3/100] Train error:3.11305051508-->Test error:3.82147640852\n",
      "Epoch[4/100] Train error:2.67229454489-->Test error:3.40483682942\n",
      "Epoch[5/100] Train error:2.37481473993-->Test error:3.11972778937\n",
      "Epoch[6/100] Train error:2.16108702579-->Test error:2.91075471473\n",
      "Epoch[7/100] Train error:2.00117617573-->Test error:2.75040884375\n",
      "Epoch[8/100] Train error:1.87802324903-->Test error:2.62320483166\n",
      "Epoch[9/100] Train error:1.78107673228-->Test error:2.51966847542\n",
      "Epoch[10/100] Train error:1.70342173701-->Test error:2.43364625398\n",
      "Epoch[11/100] Train error:1.64032706866-->Test error:2.36095582422\n",
      "Epoch[12/100] Train error:1.58844542471-->Test error:2.29865059912\n",
      "Epoch[13/100] Train error:1.54534419586-->Test error:2.24459286897\n",
      "Epoch[14/100] Train error:1.50921611601-->Test error:2.19719334597\n",
      "Epoch[15/100] Train error:1.47869347737-->Test error:2.15524565991\n",
      "Epoch[16/100] Train error:1.45272480161-->Test error:2.11781756234\n",
      "Epoch[17/100] Train error:1.4304906477-->Test error:2.08417731623\n",
      "Epoch[18/100] Train error:1.41134475109-->Test error:2.05374263644\n",
      "Epoch[19/100] Train error:1.39477201911-->Test error:2.02604449325\n",
      "Epoch[20/100] Train error:1.38035801562-->Test error:2.00070095501\n",
      "Epoch[21/100] Train error:1.36776644205-->Test error:1.97739795959\n",
      "Epoch[22/100] Train error:1.3567222872-->Test error:1.95587496096\n",
      "Epoch[23/100] Train error:1.34699906201-->Test error:1.93591406588\n",
      "Epoch[24/100] Train error:1.33840902067-->Test error:1.91733170835\n",
      "Epoch[25/100] Train error:1.3307955938-->Test error:1.89997219588\n",
      "Epoch[26/100] Train error:1.32402747948-->Test error:1.88370265415\n",
      "Epoch[27/100] Train error:1.31799398996-->Test error:1.86840902914\n",
      "Epoch[28/100] Train error:1.31260135898-->Test error:1.85399289735\n",
      "Epoch[29/100] Train error:1.3077697902-->Test error:1.84036890013\n",
      "Epoch[30/100] Train error:1.30343108254-->Test error:1.82746266424\n",
      "Epoch[31/100] Train error:1.29952670768-->Test error:1.81520910471\n",
      "Epoch[32/100] Train error:1.29600624456-->Test error:1.80355103065\n",
      "Epoch[33/100] Train error:1.29282609781-->Test error:1.79243799291\n",
      "Epoch[34/100] Train error:1.289948443-->Test error:1.78182532615\n",
      "Epoch[35/100] Train error:1.28734035465-->Test error:1.77167334831\n",
      "Epoch[36/100] Train error:1.2849730817-->Test error:1.76194668827\n",
      "Epoch[37/100] Train error:1.28282144317-->Test error:1.7526137184\n",
      "Epoch[38/100] Train error:1.28086332189-->Test error:1.74364607356\n",
      "Epoch[39/100] Train error:1.2790792386-->Test error:1.73501824168\n",
      "Epoch[40/100] Train error:1.27745199255-->Test error:1.7267072138\n",
      "Epoch[41/100] Train error:1.27596635695-->Test error:1.7186921839\n",
      "Epoch[42/100] Train error:1.27460882011-->Test error:1.71095429038\n",
      "Epoch[43/100] Train error:1.27336736461-->Test error:1.70347639277\n",
      "Epoch[44/100] Train error:1.27223127845-->Test error:1.69624287821\n",
      "Epoch[45/100] Train error:1.27119099291-->Test error:1.68923949317\n",
      "Epoch[46/100] Train error:1.27023794311-->Test error:1.6824531967\n",
      "Epoch[47/100] Train error:1.26936444758-->Test error:1.67587203213\n",
      "Epoch[48/100] Train error:1.26856360409-->Test error:1.66948501455\n",
      "Epoch[49/100] Train error:1.26782919931-->Test error:1.66328203192\n",
      "Epoch[50/100] Train error:1.26715563019-->Test error:1.65725375786\n",
      "Epoch[51/100] Train error:1.26653783543-->Test error:1.65139157468\n",
      "Epoch[52/100] Train error:1.26597123565-->Test error:1.64568750517\n",
      "Epoch[53/100] Train error:1.2654516809-->Test error:1.64013415208\n",
      "Epoch[54/100] Train error:1.26497540472-->Test error:1.63472464435\n",
      "Epoch[55/100] Train error:1.26453898359-->Test error:1.62945258909\n",
      "Epoch[56/100] Train error:1.26413930129-->Test error:1.62431202881\n",
      "Epoch[57/100] Train error:1.26377351743-->Test error:1.61929740308\n",
      "Epoch[58/100] Train error:1.26343903956-->Test error:1.61440351424\n",
      "Epoch[59/100] Train error:1.2631334985-->Test error:1.60962549649\n",
      "Epoch[60/100] Train error:1.26285472636-->Test error:1.60495878824\n",
      "Epoch[61/100] Train error:1.2626007371-->Test error:1.60039910707\n",
      "Epoch[62/100] Train error:1.26236970911-->Test error:1.5959424272\n",
      "Epoch[63/100] Train error:1.26215996974-->Test error:1.59158495913\n",
      "Epoch[64/100] Train error:1.26196998138-->Test error:1.58732313113\n",
      "Epoch[65/100] Train error:1.26179832911-->Test error:1.58315357256\n",
      "Epoch[66/100] Train error:1.26164370955-->Test error:1.57907309865\n",
      "Epoch[67/100] Train error:1.26150492087-->Test error:1.57507869671\n",
      "Epoch[68/100] Train error:1.26138085378-->Test error:1.57116751352\n",
      "Epoch[69/100] Train error:1.26127048351-->Test error:1.56733684387\n",
      "Epoch[70/100] Train error:1.26117286244-->Test error:1.56358412012\n",
      "Epoch[71/100] Train error:1.26108711357-->Test error:1.55990690255\n",
      "Epoch[72/100] Train error:1.26101242453-->Test error:1.55630287069\n",
      "Epoch[73/100] Train error:1.26094804223-->Test error:1.5527698152\n",
      "Epoch[74/100] Train error:1.26089326793-->Test error:1.54930563055\n",
      "Epoch[75/100] Train error:1.26084745285-->Test error:1.54590830824\n",
      "Epoch[76/100] Train error:1.26080999413-->Test error:1.54257593056\n",
      "Epoch[77/100] Train error:1.26078033117-->Test error:1.53930666484\n",
      "Epoch[78/100] Train error:1.26075794229-->Test error:1.53609875821\n",
      "Epoch[79/100] Train error:1.2607423417-->Test error:1.53295053265\n",
      "Epoch[80/100] Train error:1.26073307674-->Test error:1.52986038053\n",
      "Epoch[81/100] Train error:1.26072972534-->Test error:1.52682676045\n",
      "Epoch[82/100] Train error:1.26073189368-->Test error:1.52384819331\n",
      "Epoch[83/100] Train error:1.26073921412-->Test error:1.52092325879\n",
      "Epoch[84/100] Train error:1.26075134323-->Test error:1.51805059204\n",
      "Epoch[85/100] Train error:1.26076796003-->Test error:1.51522888053\n",
      "Epoch[86/100] Train error:1.26078876432-->Test error:1.51245686123\n",
      "Epoch[87/100] Train error:1.26081347524-->Test error:1.50973331796\n",
      "Epoch[88/100] Train error:1.26084182984-->Test error:1.50705707885\n",
      "Epoch[89/100] Train error:1.26087358184-->Test error:1.50442701406\n",
      "Epoch[90/100] Train error:1.26090850045-->Test error:1.50184203362\n",
      "Epoch[91/100] Train error:1.26094636929-->Test error:1.4993010854\n",
      "Epoch[92/100] Train error:1.26098698543-->Test error:1.49680315323\n",
      "Epoch[93/100] Train error:1.26103015842-->Test error:1.49434725513\n",
      "Epoch[94/100] Train error:1.2610757095-->Test error:1.49193244165\n",
      "Epoch[95/100] Train error:1.26112347076-->Test error:1.48955779435\n",
      "Epoch[96/100] Train error:1.26117328447-->Test error:1.48722242432\n",
      "Epoch[97/100] Train error:1.26122500239-->Test error:1.48492547081\n",
      "Epoch[98/100] Train error:1.2612784851-->Test error:1.48266609997\n",
      "Epoch[99/100] Train error:1.26133360153-->Test error:1.48044350364\n",
      "Epoch[100/100] Train error:1.26139022831-->Test error:1.47825689821\n"
     ]
    }
   ],
   "source": [
    "train_errors = []\n",
    "test_errors = []\n",
    "\n",
    "#Only consider non-zero matrix \n",
    "users,items = R.nonzero()      \n",
    "for epoch in range(n_epochs):\n",
    "    for u, i in zip(users,items):\n",
    "        e = R[u, i] - prediction(P[:,u],Q[:,i],items_mean[i+1],users_bias[u+1],items_bias[i+1])  # Calculate error for gradient\n",
    "        P[:,u] += gamma * ( e * Q[:,i] - lmbda * P[:,u]) # Update latent user feature matrix\n",
    "        Q[:,i] += gamma * ( e * P[:,u] - lmbda * Q[:,i])  # Update latent movie feature matrix\n",
    "    #print('user:'+ str(u) + '----item:' + str(i) + '----rating:' + str(R[u, i]) + '----pred:' + str(prediction(P[:,u],Q[:,i],items_mean[i+1],users_bias[u+1],items_bias[i+1])))\n",
    "    train_rmse = rmse(I,R,Q,P) # Calculate root mean squared error from train dataset\n",
    "    test_rmse = rmse(I2,T,Q,P) # Calculate root mean squared error from test dataset\n",
    "    train_errors.append(train_rmse)\n",
    "    test_errors.append(test_rmse)\n",
    "    print(\"Epoch[\"+ str(epoch+1) + \"/\" + str(n_epochs) + \"] Train error:\" + str(train_rmse) + \"-->Test error:\" + str(test_rmse))"
   ]
  },
  {
   "cell_type": "code",
   "execution_count": 13,
   "metadata": {},
   "outputs": [
    {
     "data": {
      "image/png": "[encoded data removed]",
      "text/plain": [
       "<matplotlib.figure.Figure at 0x7fb53430e6d8>"
      ]
     },
     "metadata": {},
     "output_type": "display_data"
    }
   ],
   "source": [
    "# Check performance by plotting train and test errors\n",
    "import matplotlib.pyplot as plt\n",
    "%matplotlib inline\n",
    "\n",
    "plt.plot(range(n_epochs), train_errors, marker='o', label='Training Data');\n",
    "plt.plot(range(n_epochs), test_errors, marker='v', label='Test Data');\n",
    "plt.title('SGD-WR Learning Curve')\n",
    "plt.xlabel('Number of Epochs');\n",
    "plt.ylabel('RMSE');\n",
    "plt.legend()\n",
    "plt.grid()\n",
    "plt.show()"
   ]
  },
  {
   "cell_type": "markdown",
   "metadata": {},
   "source": [
    "The model seems to perform quite well, with a relatively low RMSE after convergence. The performance can be influenced by tweaking the hyperparameters $\\lambda$, $\\gamma$ and $k$. In order to learn more about hyperparameter tuning you can take a look at one of the previous [posts](http://online.cambridgecoding.com/notebooks/cca_admin/scanning-hyperspace-how-to-tune-machine-learning-models). \n",
    "\n",
    "Next you could compare the actual rating with the predicted rating. To do this you first calculate the prediction matrix – for that you can use ``prediction`` function you have implemented above and convert it to a dataframe for the ease of use.<img src=\"https://latex.codecogs.com/gif.latex?\\hat&space;r_{ui}=P_u^TQ_i$&space;&space;$(2)\" title=\"\\hat r_{ui}=p_u^Tq_i\" /> "
   ]
  },
  {
   "cell_type": "code",
   "execution_count": null,
   "metadata": {},
   "outputs": [],
   "source": [
    "# Calculate prediction matrix R_hat (low-rank approximation for R)\n",
    "R = pd.DataFrame(R)\n",
    "R_hat=pd.DataFrame(prediction(P,Q))"
   ]
  },
  {
   "cell_type": "markdown",
   "metadata": {},
   "source": [
    "To get an idea of what you achieved, let's compare some of our predictions for user ``17`` with their actual ratings. "
   ]
  },
  {
   "cell_type": "code",
   "execution_count": null,
   "metadata": {},
   "outputs": [],
   "source": [
    "# Compare true ratings of user 17 with predictions\n",
    "ratings = pd.DataFrame(data=R.loc[16,R.loc[16,:] > 0]).head(n=5)\n",
    "ratings['Prediction'] = R_hat.loc[16,R.loc[16,:] > 0]\n",
    "ratings.columns = ['Actual Rating', 'Predicted Rating']\n",
    "ratings"
   ]
  }
 ],
 "metadata": {
  "kernelspec": {
   "display_name": "Python 3",
   "language": "python",
   "name": "python3"
  },
  "language_info": {
   "codemirror_mode": {
    "name": "ipython",
    "version": 3
   },
   "file_extension": ".py",
   "mimetype": "text/x-python",
   "name": "python",
   "nbconvert_exporter": "python",
   "pygments_lexer": "ipython3",
   "version": "3.6.1"
  }
 },
 "nbformat": 4,
 "nbformat_minor": 1
}

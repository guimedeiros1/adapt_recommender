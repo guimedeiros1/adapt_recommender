{
 "cells": [
  {
   "cell_type": "markdown",
   "metadata": {},
   "source": [
    "## Preprocessing"
   ]
  },
  {
   "cell_type": "code",
   "execution_count": 1,
   "metadata": {
    "collapsed": true
   },
   "outputs": [],
   "source": [
    "import numpy as np\n",
    "import pandas as pd"
   ]
  },
  {
   "cell_type": "code",
   "execution_count": 2,
   "metadata": {},
   "outputs": [
    {
     "name": "stdout",
     "output_type": "stream",
     "text": [
      "Number of users = 78 | Number of movies = 405\n"
     ]
    }
   ],
   "source": [
    "df = pd.read_csv('../data/rating_explicit_only.csv', sep=',', skipinitialspace=True)\n",
    "\n",
    "n_users = df.learner_id.unique().shape[0]\n",
    "n_items = df.movie_id.unique().shape[0]\n",
    "\n",
    "print('Number of users = ' + str(n_users) + ' | Number of movies = ' + str(n_items))"
   ]
  },
  {
   "cell_type": "code",
   "execution_count": 3,
   "metadata": {},
   "outputs": [
    {
     "name": "stdout",
     "output_type": "stream",
     "text": [
      "The maximum learner_id in this list is= 111\n"
     ]
    }
   ],
   "source": [
    "id_max = df.sort_values(by=['learner_id'], ascending=False).head(n=1)\n",
    "\n",
    "id_max = int(id_max.learner_id)\n",
    "\n",
    "print('The maximum learner_id in this list is= ' + str(id_max))"
   ]
  },
  {
   "cell_type": "code",
   "execution_count": 4,
   "metadata": {},
   "outputs": [],
   "source": [
    "mv = pd.read_csv('../data/movie.csv', sep=',', skipinitialspace=True)\n",
    "\n",
    "df['movie_knowledge_area'] = ''"
   ]
  },
  {
   "cell_type": "code",
   "execution_count": 5,
   "metadata": {},
   "outputs": [
    {
     "data": {
      "text/plain": [
       "(106, 12)"
      ]
     },
     "execution_count": 5,
     "metadata": {},
     "output_type": "execute_result"
    }
   ],
   "source": [
    "lrn = pd.read_csv('../data/learner.csv', sep=',', skipinitialspace=True)\n",
    "\n",
    "lrn.shape"
   ]
  },
  {
   "cell_type": "code",
   "execution_count": 6,
   "metadata": {},
   "outputs": [
    {
     "name": "stderr",
     "output_type": "stream",
     "text": [
      "/home/guilherme/anaconda3/lib/python3.6/site-packages/pandas/core/indexing.py:179: SettingWithCopyWarning: \n",
      "A value is trying to be set on a copy of a slice from a DataFrame\n",
      "\n",
      "See the caveats in the documentation: http://pandas.pydata.org/pandas-docs/stable/indexing.html#indexing-view-versus-copy\n",
      "  self._setitem_with_indexer(indexer, value)\n"
     ]
    }
   ],
   "source": [
    "#copy the value of knowledge area from movies.csv\n",
    "for index, row in df.iterrows():\n",
    "    target_mv = mv.loc[mv.id == row.movie_id]\n",
    "    df.movie_knowledge_area.iloc[index] = target_mv.movie_knowledge_area.values[0]"
   ]
  },
  {
   "cell_type": "code",
   "execution_count": 7,
   "metadata": {},
   "outputs": [
    {
     "data": {
      "text/plain": [
       "movie_knowledge_area\n",
       "BL    3.457831\n",
       "EN    3.674419\n",
       "HT    3.426752\n",
       "LT    3.282427\n",
       "MT    3.600000\n",
       "PH    3.525510\n",
       "Name: rating, dtype: float64"
      ]
     },
     "execution_count": 7,
     "metadata": {},
     "output_type": "execute_result"
    }
   ],
   "source": [
    "#get rating mean grouped by movie knowledge area\n",
    "\n",
    "mean_ratings = df.groupby(['movie_knowledge_area'])['rating'].mean()\n",
    "\n",
    "mean_ratings"
   ]
  },
  {
   "cell_type": "code",
   "execution_count": 8,
   "metadata": {},
   "outputs": [
    {
     "data": {
      "text/plain": [
       "(2426, 16)"
      ]
     },
     "execution_count": 8,
     "metadata": {},
     "output_type": "execute_result"
    }
   ],
   "source": [
    "#add the profile features to the ratings dataframe\n",
    "\n",
    "df['level_of_education'], df['level_of_english'], df['level_of_literature'], df['level_of_history'], df['level_of_biology'], df['level_of_physics'], df['level_of_math'], df['learning_goal'], df['learning_style'] = ['', '', '', '', '', '', '', '', ''] \n",
    "\n",
    "df.shape"
   ]
  },
  {
   "cell_type": "code",
   "execution_count": 9,
   "metadata": {},
   "outputs": [
    {
     "name": "stderr",
     "output_type": "stream",
     "text": [
      "/home/guilherme/anaconda3/lib/python3.6/site-packages/pandas/core/indexing.py:179: SettingWithCopyWarning: \n",
      "A value is trying to be set on a copy of a slice from a DataFrame\n",
      "\n",
      "See the caveats in the documentation: http://pandas.pydata.org/pandas-docs/stable/indexing.html#indexing-view-versus-copy\n",
      "  self._setitem_with_indexer(indexer, value)\n"
     ]
    }
   ],
   "source": [
    "#copy the profile levels from learner.csv\n",
    "\n",
    "for index, row in df.iterrows():\n",
    "    target_lrn = lrn.loc[lrn.id == row.learner_id]\n",
    "    df.level_of_education.iloc[index] = target_lrn.level_of_education.values[0]\n",
    "    df.level_of_english.iloc[index] = target_lrn.level_of_english.values[0]\n",
    "    df.level_of_literature.iloc[index] = target_lrn.level_of_literature.values[0]\n",
    "    df.level_of_history.iloc[index] = target_lrn.level_of_history.values[0]\n",
    "    df.level_of_biology.iloc[index] = target_lrn.level_of_biology.values[0]\n",
    "    df.level_of_physics.iloc[index] = target_lrn.level_of_physics.values[0]\n",
    "    df.level_of_math.iloc[index] = target_lrn.level_of_math.values[0]\n",
    "    df.learning_goal.iloc[index] = target_lrn.learning_goal.values[0]\n",
    "    df.learning_style.iloc[index] = target_lrn.learning_style.values[0]\n",
    "#     print(target_lrn)"
   ]
  },
  {
   "cell_type": "code",
   "execution_count": 10,
   "metadata": {},
   "outputs": [],
   "source": [
    "#get rating mean grouped by levels\n",
    "\n",
    "mean_education = df.groupby(['level_of_education'])['rating'].mean()\n",
    "mean_english = df.groupby(['level_of_english'])['rating'].mean()\n",
    "mean_literature = df.groupby(['level_of_literature'])['rating'].mean()\n",
    "mean_history = df.groupby(['level_of_history'])['rating'].mean()\n",
    "mean_biology = df.groupby(['level_of_biology'])['rating'].mean()\n",
    "mean_physics = df.groupby(['level_of_physics'])['rating'].mean()\n",
    "mean_math = df.groupby(['level_of_math'])['rating'].mean()\n",
    "mean_lgoal = df.groupby(['learning_goal'])['rating'].mean()\n",
    "mean_lstyle = df.groupby(['learning_style'])['rating'].mean()"
   ]
  },
  {
   "cell_type": "code",
   "execution_count": 11,
   "metadata": {},
   "outputs": [
    {
     "name": "stdout",
     "output_type": "stream",
     "text": [
      "Means:\n",
      "level_of_education\n",
      "DT    3.135674\n",
      "EF    5.000000\n",
      "EM    3.790541\n",
      "ES    3.008292\n",
      "MT    3.394343\n",
      "Name: rating, dtype: float64\n",
      "\n",
      "level_of_english\n",
      "HL    3.198221\n",
      "LL    3.910000\n",
      "ML    3.184840\n",
      "Name: rating, dtype: float64\n",
      "\n",
      "level_of_literature\n",
      "HL    3.456967\n",
      "LL    2.880282\n",
      "ML    3.282482\n",
      "Name: rating, dtype: float64\n",
      "\n",
      "level_of_history\n",
      "HL    3.702875\n",
      "LL    3.261628\n",
      "ML    3.117095\n",
      "Name: rating, dtype: float64\n",
      "\n",
      "level_of_biology\n",
      "HL    3.940120\n",
      "LL    3.231368\n",
      "ML    3.130147\n",
      "Name: rating, dtype: float64\n",
      "\n",
      "level_of_physics\n",
      "HL    3.236318\n",
      "LL    3.351049\n",
      "ML    3.149733\n",
      "Name: rating, dtype: float64\n",
      "\n",
      "level_of_math\n",
      "HL    3.002795\n",
      "LL    3.743976\n",
      "ML    3.438914\n",
      "Name: rating, dtype: float64\n",
      "\n",
      "learning_goal\n",
      "LLL    3.186104\n",
      "STL    3.260477\n",
      "Name: rating, dtype: float64\n",
      "\n",
      "learning_style\n",
      "GLB    3.329248\n",
      "SQN    3.115641\n",
      "Name: rating, dtype: float64\n"
     ]
    }
   ],
   "source": [
    "print('Means:\\n' + str(mean_education) + '\\n\\n' + str(mean_english) + '\\n\\n' + str(mean_literature) + '\\n\\n' + str(mean_history) + '\\n\\n' + str(mean_biology) + '\\n\\n' + str(mean_physics) + '\\n\\n' + str(mean_math)+ '\\n\\n' + str(mean_lgoal)+ '\\n\\n' + str(mean_lstyle))"
   ]
  },
  {
   "cell_type": "code",
   "execution_count": 12,
   "metadata": {
    "collapsed": true
   },
   "outputs": [],
   "source": [
    "df.to_csv('../data/ratings_context.csv')"
   ]
  },
  {
   "cell_type": "code",
   "execution_count": 14,
   "metadata": {},
   "outputs": [
    {
     "data": {
      "text/plain": [
       "3.071537344685492"
      ]
     },
     "execution_count": 14,
     "metadata": {},
     "output_type": "execute_result"
    }
   ],
   "source": [
    "#get the item's rating mean\n",
    "\n",
    "# df.rating = pd.to_numeric(df.rating, downcast = 'integer', errors='coerce')\n",
    "\n",
    "items_mean = df.groupby(['movie_id'])['rating'].mean()\n",
    "overall_mean = items_mean.mean()\n",
    "\n",
    "overall_mean"
   ]
  },
  {
   "cell_type": "code",
   "execution_count": 16,
   "metadata": {},
   "outputs": [
    {
     "data": {
      "text/plain": [
       "9.3642514867149e-16"
      ]
     },
     "execution_count": 16,
     "metadata": {},
     "output_type": "execute_result"
    }
   ],
   "source": [
    "#get the item bias\n",
    "\n",
    "items_bias = items_mean - overall_mean\n",
    "\n",
    "overall_bias = items_bias.mean()\n",
    "\n",
    "overall_bias"
   ]
  },
  {
   "cell_type": "code",
   "execution_count": 17,
   "metadata": {
    "collapsed": true
   },
   "outputs": [],
   "source": [
    "# #get specific user bias (baseline)\n",
    "\n",
    "# def user_bias(user):\n",
    "#     u_index = users_mean.index.get_loc(user) #get integer index through the label index\n",
    "#     u_mean = users_mean[u_index] #get user mean\n",
    "#     u_bias = u_mean - overall_mean #compute user bias\n",
    "#     return(u_bias)"
   ]
  },
  {
   "cell_type": "code",
   "execution_count": 56,
   "metadata": {},
   "outputs": [
    {
     "name": "stderr",
     "output_type": "stream",
     "text": [
      "/home/guilherme/anaconda3/lib/python3.6/site-packages/pandas/core/indexing.py:179: SettingWithCopyWarning: \n",
      "A value is trying to be set on a copy of a slice from a DataFrame\n",
      "\n",
      "See the caveats in the documentation: http://pandas.pydata.org/pandas-docs/stable/indexing.html#indexing-view-versus-copy\n",
      "  self._setitem_with_indexer(indexer, value)\n"
     ]
    }
   ],
   "source": [
    "# save the bias on dataframe\n",
    "df['profile_bias'] = np.nan\n",
    "\n",
    "for index, row in df.iterrows():\n",
    "    if row.level_of_literature == 'HL':\n",
    "        df.profile_bias.iloc[index] = float(items_mean[row.movie_id]) - float(mean_literature[0])\n",
    "    elif row.level_of_literature == 'LL':\n",
    "        df.profile_bias.iloc[index] = float(items_mean[row.movie_id]) - float(mean_literature[1])\n",
    "    elif row.level_of_literature == 'ML':\n",
    "        df.profile_bias.iloc[index] = float(items_mean[row.movie_id]) - float(mean_literature[2])\n",
    "    "
   ]
  },
  {
   "cell_type": "code",
   "execution_count": 57,
   "metadata": {
    "collapsed": true
   },
   "outputs": [],
   "source": [
    "df.to_csv('../data/ratings_bias.csv')"
   ]
  },
  {
   "cell_type": "code",
   "execution_count": 58,
   "metadata": {},
   "outputs": [
    {
     "data": {
      "text/plain": [
       "3.1771793656197964"
      ]
     },
     "execution_count": 58,
     "metadata": {},
     "output_type": "execute_result"
    }
   ],
   "source": [
    "#get the contextual factor bias CAMF-CCI (na verdade eu teria que fazer a influencia de cada \n",
    "# valor contextual sobre o item e nao de cada categoria de contexto sobre o item CAMF-CCI é uma adap de CAMF-CI)\n",
    "\n",
    "profile_bias = df.groupby(['learner_id'])['profile_bias'].mean()\n",
    "\n",
    "total_profile_bias = items_mean.mean()+profile_bias.mean()+items_bias.mean()\n",
    "\n",
    "total_profile_bias"
   ]
  },
  {
   "cell_type": "code",
   "execution_count": 182,
   "metadata": {},
   "outputs": [],
   "source": [
    "from sklearn import cross_validation as cv\n",
    "train_data, test_data = cv.train_test_split(df,test_size=0.25)\n",
    "\n",
    "train_data = pd.DataFrame(train_data)\n",
    "test_data = pd.DataFrame(test_data)"
   ]
  },
  {
   "cell_type": "code",
   "execution_count": 183,
   "metadata": {},
   "outputs": [],
   "source": [
    "#get the specific biases\n",
    "def biases(B):\n",
    "    #items mean\n",
    "    train_mean = train_data.groupby(['movie_id'])['rating'].mean()\n",
    "    test_mean = test_data.groupby(['movie_id'])['rating'].mean()\n",
    "\n",
    "    #profile bias\n",
    "    train_pbias = train_data.groupby(['learner_id'])['profile_bias'].mean()\n",
    "    test_pbias = test_data.groupby(['learner_id'])['profile_bias'].mean()\n",
    "\n",
    "    #items bias\n",
    "    train_bias = train_mean - train_mean.mean()\n",
    "    test_bias = test_mean - test_mean.mean()\n",
    "\n",
    "    if B =='train':\n",
    "        return train_mean.mean()+train_pbias.mean()+train_bias.mean()\n",
    "    elif B =='test':\n",
    "        return test_mean.mean()+test_pbias.mean()+test_bias.mean()\n"
   ]
  },
  {
   "cell_type": "code",
   "execution_count": 184,
   "metadata": {
    "collapsed": true
   },
   "outputs": [],
   "source": [
    "# Create training and test matrix\n",
    "R = np.zeros((id_max, n_items))\n",
    "for line in train_data.itertuples():\n",
    "    R[line[6]-1, line[5]-1] = line[2]  \n",
    "\n",
    "T = np.zeros((id_max, n_items))\n",
    "for line in test_data.itertuples():\n",
    "    T[line[6]-1, line[5]-1] = line[2]"
   ]
  },
  {
   "cell_type": "code",
   "execution_count": 185,
   "metadata": {
    "collapsed": true
   },
   "outputs": [],
   "source": [
    "# Index matrix for training data\n",
    "I = R.copy()\n",
    "I[I > 0] = 1\n",
    "I[I == 0] = 0\n",
    "\n",
    "# Index matrix for test data\n",
    "I2 = T.copy()\n",
    "I2[I2 > 0] = 1\n",
    "I2[I2 == 0] = 0"
   ]
  },
  {
   "cell_type": "code",
   "execution_count": 186,
   "metadata": {
    "collapsed": true
   },
   "outputs": [],
   "source": [
    "# Predict the unknown ratings through the dot product of the latent features for users and items \n",
    "def prediction(P,Q,IM,UB,IB):\n",
    "    return (np.dot(P.T,Q)+IM+UB+IB)"
   ]
  },
  {
   "cell_type": "code",
   "execution_count": 196,
   "metadata": {
    "collapsed": true
   },
   "outputs": [],
   "source": [
    "lmbda = 0.5 # Regularisation weight\n",
    "k = 8  # Dimensionality of the latent feature space\n",
    "m, n = R.shape  # Number of users and items\n",
    "n_epochs = 100  # Number of epochs\n",
    "gamma=0.001  # Learning rate\n",
    "\n",
    "P = 3 * np.random.rand(k,m) # Latent user feature matrix\n",
    "Q = 3 * np.random.rand(k,n) # Latent movie feature matrix"
   ]
  },
  {
   "cell_type": "code",
   "execution_count": 197,
   "metadata": {
    "collapsed": true
   },
   "outputs": [],
   "source": [
    "# Calculate the RMSE\n",
    "def rmse(I,R,Q,P,B):\n",
    "    return np.sqrt(np.sum((I * (R - (np.dot(P.T,Q)+biases(B)))**2)/len(R[R > 0])))"
   ]
  },
  {
   "cell_type": "code",
   "execution_count": 198,
   "metadata": {},
   "outputs": [],
   "source": [
    "#calculate MAE\n",
    "def mae(I,R,Q,P,B):\n",
    "    return np.sum(abs((I * (R - (np.dot(P.T,Q)+biases(B)))/len(R[R > 0]))))"
   ]
  },
  {
   "cell_type": "code",
   "execution_count": 199,
   "metadata": {},
   "outputs": [],
   "source": [
    "from sklearn.metrics import mean_absolute_error\n",
    "from sklearn.metrics import mean_squared_error\n",
    "\n",
    "train_errors = []\n",
    "test_errors = []\n",
    "\n",
    "#Only consider non-zero matrix \n",
    "users,items = R.nonzero()      \n",
    "for epoch in range(n_epochs):\n",
    "    error = 0\n",
    "    for u, i in zip(users,items):\n",
    "        e = R[u, i] - prediction(P[:,u],Q[:,i],items_mean[i+1],profile_bias[u+1],items_bias[i+1])  # Calculate error for gradient\n",
    "        P[:,u] += gamma * ( e * Q[:,i] - lmbda * P[:,u]) # Update latent user feature matrix\n",
    "        Q[:,i] += gamma * ( e * P[:,u] - lmbda * Q[:,i])  # Update latent movie feature matrix\n",
    "#         error += e\n",
    "#     train_e = abs(error/users.shape[0])\n",
    "#     train_rmse = rmse(I,R,Q,P,'train') # Calculate root mean squared error from train dataset\n",
    "#     test_rmse = rmse(I2,T,Q,P,'test') # Calculate root mean squared error from test dataset\n",
    "#     train_mae = mae(I,R,Q,P,'train')\n",
    "#     test_mae = mae(I2,T,Q,P,'test')\n",
    "    train_mae = mean_absolute_error(R, np.dot(P.T,Q))\n",
    "    test_mae = mean_absolute_error(T, np.dot(P.T,Q))\n",
    "    train_errors.append(train_mae)\n",
    "    test_errors.append(test_mae)\n",
    "#     print(\"Epoch[\"+ str(epoch+1) + \"/\" + str(n_epochs) + \"] Train error:\" + str(train_mae) + \"-->Test error:\" + str(test_mae))"
   ]
  },
  {
   "cell_type": "code",
   "execution_count": 206,
   "metadata": {},
   "outputs": [
    {
     "data": {
      "text/plain": [
       "5.4731433496751007"
      ]
     },
     "execution_count": 206,
     "metadata": {},
     "output_type": "execute_result"
    }
   ],
   "source": [
    "from sklearn.metrics import mean_absolute_error\n",
    "\n",
    "mean_absolute_error(R, np.dot(P.T,Q))"
   ]
  },
  {
   "cell_type": "code",
   "execution_count": 201,
   "metadata": {},
   "outputs": [
    {
     "data": {
      "image/png": "[encoded data removed]",
      "text/plain": [
       "<matplotlib.figure.Figure at 0x7f21bc296438>"
      ]
     },
     "metadata": {},
     "output_type": "display_data"
    }
   ],
   "source": [
    "# Check performance by plotting train and test errors\n",
    "import matplotlib.pyplot as plt\n",
    "%matplotlib inline\n",
    "\n",
    "plt.plot(range(n_epochs), train_errors, marker='o', label='Training Data');\n",
    "plt.plot(range(n_epochs), test_errors, marker='v', label='Test Data');\n",
    "plt.title('SGD-WR Learning Curve')\n",
    "plt.xlabel('Number of Epochs');\n",
    "plt.ylabel('RMSE');\n",
    "plt.legend()\n",
    "plt.grid()\n",
    "plt.show()"
   ]
  },
  {
   "cell_type": "markdown",
   "metadata": {},
   "source": [
    "The model seems to perform quite well, with a relatively low RMSE after convergence. The performance can be influenced by tweaking the hyperparameters $\\lambda$, $\\gamma$ and $k$. In order to learn more about hyperparameter tuning you can take a look at one of the previous [posts](http://online.cambridgecoding.com/notebooks/cca_admin/scanning-hyperspace-how-to-tune-machine-learning-models). \n",
    "\n",
    "Next you could compare the actual rating with the predicted rating. To do this you first calculate the prediction matrix – for that you can use ``prediction`` function you have implemented above and convert it to a dataframe for the ease of use.<img src=\"https://latex.codecogs.com/gif.latex?\\hat&space;r_{ui}=P_u^TQ_i$&space;&space;$(2)\" title=\"\\hat r_{ui}=p_u^Tq_i\" /> "
   ]
  },
  {
   "cell_type": "code",
   "execution_count": 204,
   "metadata": {},
   "outputs": [],
   "source": [
    "# Calculate prediction matrix R_hat (low-rank approximation for R)\n",
    "R = pd.DataFrame(R)\n",
    "R_hat=pd.DataFrame(np.dot(P.T,Q))"
   ]
  },
  {
   "cell_type": "markdown",
   "metadata": {},
   "source": [
    "To get an idea of what you achieved, let's compare some of our predictions for user ``17`` with their actual ratings. "
   ]
  },
  {
   "cell_type": "code",
   "execution_count": null,
   "metadata": {
    "collapsed": true
   },
   "outputs": [],
   "source": [
    "# Compare true ratings of user 17 with predictions\n",
    "ratings = pd.DataFrame(data=R.loc[16,R.loc[16,:] > 0]).head(n=5)\n",
    "ratings['Prediction'] = R_hat.loc[16,R.loc[16,:] > 0]\n",
    "ratings.columns = ['Actual Rating', 'Predicted Rating']\n",
    "ratings"
   ]
  }
 ],
 "metadata": {
  "kernelspec": {
   "display_name": "Python 3",
   "language": "python",
   "name": "python3"
  },
  "language_info": {
   "codemirror_mode": {
    "name": "ipython",
    "version": 3
   },
   "file_extension": ".py",
   "mimetype": "text/x-python",
   "name": "python",
   "nbconvert_exporter": "python",
   "pygments_lexer": "ipython3",
   "version": "3.6.1"
  }
 },
 "nbformat": 4,
 "nbformat_minor": 1
}

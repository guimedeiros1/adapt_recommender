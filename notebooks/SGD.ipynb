{
 "cells": [
  {
   "cell_type": "code",
   "execution_count": 33,
   "metadata": {},
   "outputs": [],
   "source": [
    "import numpy as np\n",
    "import pandas as pd"
   ]
  },
  {
   "cell_type": "code",
   "execution_count": 34,
   "metadata": {},
   "outputs": [
    {
     "name": "stdout",
     "output_type": "stream",
     "text": [
      "Number of users = 78 | Number of movies = 405\n"
     ]
    }
   ],
   "source": [
    "df = pd.read_csv('../data/rating_explicit_only.csv', sep=',', skipinitialspace=True)\n",
    "\n",
    "n_users = df.learner_id.unique().shape[0]\n",
    "n_items = df.movie_id.unique().shape[0]\n",
    "\n",
    "print('Number of users = ' + str(n_users) + ' | Number of movies = ' + str(n_items))"
   ]
  },
  {
   "cell_type": "code",
   "execution_count": 35,
   "metadata": {},
   "outputs": [
    {
     "name": "stdout",
     "output_type": "stream",
     "text": [
      "The maximum learner_id in this list is= 111\n"
     ]
    }
   ],
   "source": [
    "id_max = df.sort_values(by=['learner_id'], ascending=False).head(n=1)\n",
    "\n",
    "id_max = int(id_max.learner_id)\n",
    "\n",
    "print('The maximum learner_id in this list is= ' + str(id_max))"
   ]
  },
  {
   "cell_type": "code",
   "execution_count": 36,
   "metadata": {},
   "outputs": [],
   "source": [
    "from sklearn import cross_validation as cv\n",
    "train_data, test_data = cv.train_test_split(df,test_size=0.25)\n",
    "\n",
    "train_data = pd.DataFrame(train_data)\n",
    "test_data = pd.DataFrame(test_data)\n"
   ]
  },
  {
   "cell_type": "code",
   "execution_count": 37,
   "metadata": {},
   "outputs": [],
   "source": [
    "# Create training and test matrix\n",
    "R = np.zeros((id_max, n_items))\n",
    "for line in train_data.itertuples():\n",
    "    R[line[6]-1, line[5]-1] = line[2]  \n",
    "\n",
    "T = np.zeros((id_max, n_items))\n",
    "for line in test_data.itertuples():\n",
    "    T[line[6]-1, line[5]-1] = line[2]"
   ]
  },
  {
   "cell_type": "code",
   "execution_count": 38,
   "metadata": {},
   "outputs": [],
   "source": [
    "# Index matrix for training data\n",
    "I = R.copy()\n",
    "I[I > 0] = 1\n",
    "I[I == 0] = 0\n",
    "\n",
    "# Index matrix for test data\n",
    "I2 = T.copy()\n",
    "I2[I2 > 0] = 1\n",
    "I2[I2 == 0] = 0"
   ]
  },
  {
   "cell_type": "code",
   "execution_count": 39,
   "metadata": {
    "collapsed": true
   },
   "outputs": [],
   "source": [
    "# Predict the unknown ratings through the dot product of the latent features for users and items \n",
    "def prediction(P,Q):\n",
    "    return np.dot(P.T,Q)"
   ]
  },
  {
   "cell_type": "code",
   "execution_count": 92,
   "metadata": {
    "collapsed": true
   },
   "outputs": [],
   "source": [
    "lmbda = 0.5 # Regularisation weight\n",
    "k = 8  # Dimensionality of the latent feature space\n",
    "m, n = R.shape  # Number of users and items\n",
    "n_epochs = 100  # Number of epochs\n",
    "gamma=0.005  # Learning rate\n",
    "\n",
    "P = 3 * np.random.rand(k,m) # Latent user feature matrix\n",
    "Q = 3 * np.random.rand(k,n) # Latent movie feature matrix"
   ]
  },
  {
   "cell_type": "code",
   "execution_count": 93,
   "metadata": {
    "collapsed": true
   },
   "outputs": [],
   "source": [
    "# Calculate the RMSE\n",
    "def rmse(I,R,Q,P):\n",
    "    return np.sqrt(np.sum((I * (R - prediction(P,Q)))**2)/len(R[R > 0]))"
   ]
  },
  {
   "cell_type": "code",
   "execution_count": 94,
   "metadata": {},
   "outputs": [
    {
     "name": "stdout",
     "output_type": "stream",
     "text": [
      "Epoch[1/100] Train error:2.78634925795-->Test error:3.12335847899\n",
      "Epoch[2/100] Train error:1.94967163939-->Test error:2.28486851281\n",
      "Epoch[3/100] Train error:1.67904533552-->Test error:2.0389710173\n",
      "Epoch[4/100] Train error:1.53640061275-->Test error:1.91987085212\n",
      "Epoch[5/100] Train error:1.44487209841-->Test error:1.84475148322\n",
      "Epoch[6/100] Train error:1.38105055571-->Test error:1.79111834563\n",
      "Epoch[7/100] Train error:1.33423072893-->Test error:1.7501201238\n",
      "Epoch[8/100] Train error:1.29849949885-->Test error:1.71735663326\n",
      "Epoch[9/100] Train error:1.27030496477-->Test error:1.69032692039\n",
      "Epoch[10/100] Train error:1.24740852724-->Test error:1.66748627223\n",
      "Epoch[11/100] Train error:1.22834800815-->Test error:1.64782322088\n",
      "Epoch[12/100] Train error:1.21213895313-->Test error:1.63064490773\n",
      "Epoch[13/100] Train error:1.1981003983-->Test error:1.61545886799\n",
      "Epoch[14/100] Train error:1.18574968195-->Test error:1.60190395257\n",
      "Epoch[15/100] Train error:1.17473706596-->Test error:1.58970806691\n",
      "Epoch[16/100] Train error:1.16480402021-->Test error:1.57866132766\n",
      "Epoch[17/100] Train error:1.15575595342-->Test error:1.56859846174\n",
      "Epoch[18/100] Train error:1.14744398373-->Test error:1.55938694162\n",
      "Epoch[19/100] Train error:1.13975249683-->Test error:1.55091878872\n",
      "Epoch[20/100] Train error:1.13259048986-->Test error:1.54310478408\n",
      "Epoch[21/100] Train error:1.1258854417-->Test error:1.53587029605\n",
      "Epoch[22/100] Train error:1.11957890063-->Test error:1.52915221686\n",
      "Epoch[23/100] Train error:1.11362326019-->Test error:1.52289667459\n",
      "Epoch[24/100] Train error:1.10797937-->Test error:1.51705729665\n",
      "Epoch[25/100] Train error:1.1026147425-->Test error:1.51159387211\n",
      "Epoch[26/100] Train error:1.09750219079-->Test error:1.50647130704\n",
      "Epoch[27/100] Train error:1.09261878241-->Test error:1.50165879805\n",
      "Epoch[28/100] Train error:1.08794502763-->Test error:1.49712917071\n",
      "Epoch[29/100] Train error:1.08346424366-->Test error:1.49285834397\n",
      "Epoch[30/100] Train error:1.0791620523-->Test error:1.48882489231\n",
      "Epoch[31/100] Train error:1.07502597981-->Test error:1.48500968433\n",
      "Epoch[32/100] Train error:1.07104513589-->Test error:1.48139558192\n",
      "Epoch[33/100] Train error:1.06720995426-->Test error:1.47796718789\n",
      "Epoch[34/100] Train error:1.06351198183-->Test error:1.47471063274\n",
      "Epoch[35/100] Train error:1.05994370629-->Test error:1.47161339334\n",
      "Epoch[36/100] Train error:1.05649841441-->Test error:1.46866413773\n",
      "Epoch[37/100] Train error:1.053170075-->Test error:1.46585259177\n",
      "Epoch[38/100] Train error:1.04995324179-->Test error:1.46316942372\n",
      "Epoch[39/100] Train error:1.04684297249-->Test error:1.46060614412\n",
      "Epoch[40/100] Train error:1.04383476115-->Test error:1.45815501842\n",
      "Epoch[41/100] Train error:1.04092448125-->Test error:1.4558089905\n",
      "Epoch[42/100] Train error:1.03810833779-->Test error:1.45356161544\n",
      "Epoch[43/100] Train error:1.03538282675-->Test error:1.45140700024\n",
      "Epoch[44/100] Train error:1.03274470057-->Test error:1.44933975137\n",
      "Epoch[45/100] Train error:1.0301909388-->Test error:1.4473549281\n",
      "Epoch[46/100] Train error:1.02771872288-->Test error:1.44544800107\n",
      "Epoch[47/100] Train error:1.02532541446-->Test error:1.44361481515\n",
      "Epoch[48/100] Train error:1.02300853671-->Test error:1.44185155614\n",
      "Epoch[49/100] Train error:1.02076575796-->Test error:1.44015472091\n",
      "Epoch[50/100] Train error:1.01859487756-->Test error:1.43852109036\n",
      "Epoch[51/100] Train error:1.0164938133-->Test error:1.43694770502\n",
      "Epoch[52/100] Train error:1.01446059048-->Test error:1.43543184286\n",
      "Epoch[53/100] Train error:1.01249333205-->Test error:1.4339709991\n",
      "Epoch[54/100] Train error:1.01059024989-->Test error:1.43256286783\n",
      "Epoch[55/100] Train error:1.008749637-->Test error:1.43120532509\n",
      "Epoch[56/100] Train error:1.00696986041-->Test error:1.42989641346\n",
      "Epoch[57/100] Train error:1.00524935479-->Test error:1.42863432779\n",
      "Epoch[58/100] Train error:1.00358661664-->Test error:1.42741740211\n",
      "Epoch[59/100] Train error:1.00198019901-->Test error:1.42624409754\n",
      "Epoch[60/100] Train error:1.00042870666-->Test error:1.42511299108\n",
      "Epoch[61/100] Train error:0.998930791606-->Test error:1.42402276529\n",
      "Epoch[62/100] Train error:0.997485149073-->Test error:1.42297219863\n",
      "Epoch[63/100] Train error:0.996090513786-->Test error:1.42196015661\n",
      "Epoch[64/100] Train error:0.994745656551-->Test error:1.42098558355\n",
      "Epoch[65/100] Train error:0.993449381129-->Test error:1.42004749487\n",
      "Epoch[66/100] Train error:0.992200521385-->Test error:1.41914497003\n",
      "Epoch[67/100] Train error:0.99099793869-->Test error:1.41827714592\n",
      "Epoch[68/100] Train error:0.98984051955-->Test error:1.41744321084\n",
      "Epoch[69/100] Train error:0.988727173471-->Test error:1.41664239879\n",
      "Epoch[70/100] Train error:0.987656831024-->Test error:1.41587398432\n",
      "Epoch[71/100] Train error:0.986628442118-->Test error:1.41513727775\n",
      "Epoch[72/100] Train error:0.985640974456-->Test error:1.41443162077\n",
      "Epoch[73/100] Train error:0.984693412172-->Test error:1.4137563824\n",
      "Epoch[74/100] Train error:0.983784754632-->Test error:1.41311095534\n",
      "Epoch[75/100] Train error:0.982914015399-->Test error:1.41249475262\n",
      "Epoch[76/100] Train error:0.982080221337-->Test error:1.41190720456\n",
      "Epoch[77/100] Train error:0.981282411857-->Test error:1.41134775606\n",
      "Epoch[78/100] Train error:0.98051963829-->Test error:1.41081586413\n",
      "Epoch[79/100] Train error:0.979790963376-->Test error:1.41031099573\n",
      "Epoch[80/100] Train error:0.979095460864-->Test error:1.40983262583\n",
      "Epoch[81/100] Train error:0.978432215206-->Test error:1.4093802357\n",
      "Epoch[82/100] Train error:0.977800321346-->Test error:1.40895331147\n",
      "Epoch[83/100] Train error:0.97719888459-->Test error:1.40855134283\n",
      "Epoch[84/100] Train error:0.976627020537-->Test error:1.40817382199\n",
      "Epoch[85/100] Train error:0.976083855094-->Test error:1.40782024277\n",
      "Epoch[86/100] Train error:0.975568524524-->Test error:1.40749009988\n",
      "Epoch[87/100] Train error:0.97508017556-->Test error:1.40718288835\n",
      "Epoch[88/100] Train error:0.974617965553-->Test error:1.40689810308\n",
      "Epoch[89/100] Train error:0.97418106265-->Test error:1.40663523858\n",
      "Epoch[90/100] Train error:0.973768646009-->Test error:1.40639378875\n",
      "Epoch[91/100] Train error:0.973379906027-->Test error:1.40617324683\n",
      "Epoch[92/100] Train error:0.973014044591-->Test error:1.40597310537\n",
      "Epoch[93/100] Train error:0.972670275334-->Test error:1.40579285639\n",
      "Epoch[94/100] Train error:0.972347823902-->Test error:1.40563199151\n",
      "Epoch[95/100] Train error:0.972045928221-->Test error:1.40549000222\n",
      "Epoch[96/100] Train error:0.971763838759-->Test error:1.40536638013\n",
      "Epoch[97/100] Train error:0.971500818792-->Test error:1.40526061737\n",
      "Epoch[98/100] Train error:0.97125614465-->Test error:1.40517220694\n",
      "Epoch[99/100] Train error:0.971029105959-->Test error:1.40510064312\n",
      "Epoch[100/100] Train error:0.970819005868-->Test error:1.40504542193\n"
     ]
    }
   ],
   "source": [
    "train_errors = []\n",
    "test_errors = []\n",
    "\n",
    "#Only consider non-zero matrix \n",
    "users,items = R.nonzero()      \n",
    "for epoch in range(n_epochs):\n",
    "    for u, i in zip(users,items):\n",
    "        e = R[u, i] - prediction(P[:,u],Q[:,i])  # Calculate error for gradient\n",
    "        P[:,u] += gamma * ( e * Q[:,i] - lmbda * P[:,u]) # Update latent user feature matrix\n",
    "        Q[:,i] += gamma * ( e * P[:,u] - lmbda * Q[:,i])  # Update latent movie feature matrix\n",
    "        #print(P)\n",
    "    train_rmse = rmse(I,R,Q,P) # Calculate root mean squared error from train dataset\n",
    "    test_rmse = rmse(I2,T,Q,P) # Calculate root mean squared error from test dataset\n",
    "    train_errors.append(train_rmse)\n",
    "    test_errors.append(test_rmse)\n",
    "    print(\"Epoch[\"+ str(epoch+1) + \"/\" + str(n_epochs) + \"] Train error:\" + str(train_rmse) + \"-->Test error:\" + str(test_rmse))"
   ]
  },
  {
   "cell_type": "code",
   "execution_count": 95,
   "metadata": {},
   "outputs": [
    {
     "data": {
      "image/png": "[encoded data removed]",
      "text/plain": [
       "<matplotlib.figure.Figure at 0x7fa1208447b8>"
      ]
     },
     "metadata": {},
     "output_type": "display_data"
    }
   ],
   "source": [
    "# Check performance by plotting train and test errors\n",
    "import matplotlib.pyplot as plt\n",
    "%matplotlib inline\n",
    "\n",
    "plt.plot(range(n_epochs), train_errors, marker='o', label='Training Data');\n",
    "plt.plot(range(n_epochs), test_errors, marker='v', label='Test Data');\n",
    "plt.title('SGD-WR Learning Curve')\n",
    "plt.xlabel('Number of Epochs');\n",
    "plt.ylabel('RMSE');\n",
    "plt.legend()\n",
    "plt.grid()\n",
    "plt.show()"
   ]
  },
  {
   "cell_type": "code",
   "execution_count": 28,
   "metadata": {
    "collapsed": true
   },
   "outputs": [],
   "source": [
    "# Calculate prediction matrix R_hat (low-rank approximation for R)\n",
    "R = pd.DataFrame(R)\n",
    "R_hat=pd.DataFrame(prediction(P,Q))"
   ]
  },
  {
   "cell_type": "code",
   "execution_count": 29,
   "metadata": {},
   "outputs": [
    {
     "data": {
      "text/html": [
       "<div>\n",
       "<style>\n",
       "    .dataframe thead tr:only-child th {\n",
       "        text-align: right;\n",
       "    }\n",
       "\n",
       "    .dataframe thead th {\n",
       "        text-align: left;\n",
       "    }\n",
       "\n",
       "    .dataframe tbody tr th {\n",
       "        vertical-align: top;\n",
       "    }\n",
       "</style>\n",
       "<table border=\"1\" class=\"dataframe\">\n",
       "  <thead>\n",
       "    <tr style=\"text-align: right;\">\n",
       "      <th></th>\n",
       "      <th>Actual Rating</th>\n",
       "      <th>Predicted Rating</th>\n",
       "    </tr>\n",
       "  </thead>\n",
       "  <tbody>\n",
       "    <tr>\n",
       "      <th>44</th>\n",
       "      <td>3.0</td>\n",
       "      <td>1.782544</td>\n",
       "    </tr>\n",
       "    <tr>\n",
       "      <th>49</th>\n",
       "      <td>5.0</td>\n",
       "      <td>3.620201</td>\n",
       "    </tr>\n",
       "    <tr>\n",
       "      <th>64</th>\n",
       "      <td>4.0</td>\n",
       "      <td>3.585750</td>\n",
       "    </tr>\n",
       "    <tr>\n",
       "      <th>80</th>\n",
       "      <td>3.0</td>\n",
       "      <td>2.585881</td>\n",
       "    </tr>\n",
       "    <tr>\n",
       "      <th>82</th>\n",
       "      <td>2.0</td>\n",
       "      <td>2.270561</td>\n",
       "    </tr>\n",
       "  </tbody>\n",
       "</table>\n",
       "</div>"
      ],
      "text/plain": [
       "    Actual Rating  Predicted Rating\n",
       "44            3.0          1.782544\n",
       "49            5.0          3.620201\n",
       "64            4.0          3.585750\n",
       "80            3.0          2.585881\n",
       "82            2.0          2.270561"
      ]
     },
     "execution_count": 29,
     "metadata": {},
     "output_type": "execute_result"
    }
   ],
   "source": [
    "# Compare true ratings of user 17 with predictions\n",
    "ratings = pd.DataFrame(data=R.loc[16,R.loc[16,:] > 0]).head(n=5)\n",
    "ratings['Prediction'] = R_hat.loc[16,R.loc[16,:] > 0]\n",
    "ratings.columns = ['Actual Rating', 'Predicted Rating']\n",
    "ratings"
   ]
  },
  {
   "cell_type": "code",
   "execution_count": null,
   "metadata": {
    "collapsed": true
   },
   "outputs": [],
   "source": []
  }
 ],
 "metadata": {
  "anaconda-cloud": {},
  "kernelspec": {
   "display_name": "Python 3",
   "language": "python",
   "name": "python3"
  },
  "language_info": {
   "codemirror_mode": {
    "name": "ipython",
    "version": 3
   },
   "file_extension": ".py",
   "mimetype": "text/x-python",
   "name": "python",
   "nbconvert_exporter": "python",
   "pygments_lexer": "ipython3",
   "version": "3.6.1"
  }
 },
 "nbformat": 4,
 "nbformat_minor": 1
}

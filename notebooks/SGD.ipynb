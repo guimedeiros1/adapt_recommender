{
 "cells": [
  {
   "cell_type": "code",
   "execution_count": 1,
   "metadata": {
    "collapsed": true
   },
   "outputs": [],
   "source": [
    "import numpy as np\n",
    "import pandas as pd"
   ]
  },
  {
   "cell_type": "code",
   "execution_count": 2,
   "metadata": {},
   "outputs": [
    {
     "name": "stdout",
     "output_type": "stream",
     "text": [
      "Number of users = 78 | Number of movies = 405\n"
     ]
    }
   ],
   "source": [
    "df = pd.read_csv('../data/rating_explicit_only.csv', sep=',', skipinitialspace=True)\n",
    "\n",
    "n_users = df.learner_id.unique().shape[0]\n",
    "n_items = df.movie_id.unique().shape[0]\n",
    "\n",
    "print('Number of users = ' + str(n_users) + ' | Number of movies = ' + str(n_items))"
   ]
  },
  {
   "cell_type": "code",
   "execution_count": 3,
   "metadata": {},
   "outputs": [
    {
     "name": "stdout",
     "output_type": "stream",
     "text": [
      "The maximum learner_id in this list is= 111\n"
     ]
    }
   ],
   "source": [
    "id_max = df.sort_values(by=['learner_id'], ascending=False).head(n=1)\n",
    "\n",
    "id_max = int(id_max.learner_id)\n",
    "\n",
    "print('The maximum learner_id in this list is= ' + str(id_max))"
   ]
  },
  {
   "cell_type": "code",
   "execution_count": 4,
   "metadata": {},
   "outputs": [],
   "source": [
    "from sklearn.model_selection import train_test_split\n",
    "train_data, test_data = train_test_split(df,test_size=0.25)\n",
    "\n",
    "train_data = pd.DataFrame(train_data)\n",
    "test_data = pd.DataFrame(test_data)\n"
   ]
  },
  {
   "cell_type": "code",
   "execution_count": 5,
   "metadata": {
    "collapsed": true
   },
   "outputs": [],
   "source": [
    "# Create training and test matrix\n",
    "R = np.zeros((id_max, n_items))\n",
    "for line in train_data.itertuples():\n",
    "    R[line[6]-1, line[5]-1] = line[2]  \n",
    "\n",
    "T = np.zeros((id_max, n_items))\n",
    "for line in test_data.itertuples():\n",
    "    T[line[6]-1, line[5]-1] = line[2]"
   ]
  },
  {
   "cell_type": "code",
   "execution_count": 6,
   "metadata": {
    "collapsed": true
   },
   "outputs": [],
   "source": [
    "# Index matrix for training data\n",
    "I = R.copy()\n",
    "I[I > 0] = 1\n",
    "I[I == 0] = 0\n",
    "\n",
    "# Index matrix for test data\n",
    "I2 = T.copy()\n",
    "I2[I2 > 0] = 1\n",
    "I2[I2 == 0] = 0"
   ]
  },
  {
   "cell_type": "code",
   "execution_count": 7,
   "metadata": {
    "collapsed": true
   },
   "outputs": [],
   "source": [
    "# Predict the unknown ratings through the dot product of the latent features for users and items \n",
    "def prediction(P,Q):\n",
    "    return np.dot(P.T,Q)"
   ]
  },
  {
   "cell_type": "code",
   "execution_count": 22,
   "metadata": {
    "collapsed": true
   },
   "outputs": [],
   "source": [
    "lmbda = 0.9 # Regularisation weight\n",
    "k = 8  # Dimensionality of the latent feature space\n",
    "m, n = R.shape  # Number of users and items\n",
    "n_epochs = 300  # Number of epochs\n",
    "gamma=0.009 # Learning rate\n",
    "\n",
    "P = 3 * np.random.rand(k,m) # Latent user feature matrix\n",
    "Q = 3 * np.random.rand(k,n) # Latent movie feature matrix"
   ]
  },
  {
   "cell_type": "code",
   "execution_count": 23,
   "metadata": {
    "collapsed": true
   },
   "outputs": [],
   "source": [
    "# Calculate the RMSE\n",
    "def rmse(I,R,Q,P):\n",
    "    return np.sqrt(np.sum((I * (R - prediction(P,Q)))**2)/len(R[R > 0]))"
   ]
  },
  {
   "cell_type": "code",
   "execution_count": 24,
   "metadata": {
    "collapsed": true
   },
   "outputs": [],
   "source": [
    "#calculate MAE\n",
    "def mae(I,R,Q,P):\n",
    "    return np.sum(abs((I * (R - (np.dot(P.T,Q))))/len(R[R > 0])))"
   ]
  },
  {
   "cell_type": "code",
   "execution_count": 25,
   "metadata": {
    "scrolled": false
   },
   "outputs": [
    {
     "name": "stdout",
     "output_type": "stream",
     "text": [
      "Epoch[1/300] Train error:8.10795036347-->Test error:8.14022990812\n",
      "Epoch[2/300] Train error:7.46401685272-->Test error:7.49925986091\n",
      "Epoch[3/300] Train error:7.14193410789-->Test error:7.17990651591\n",
      "Epoch[4/300] Train error:6.90647097277-->Test error:6.94608661655\n",
      "Epoch[5/300] Train error:6.7095113674-->Test error:6.75020106212\n",
      "Epoch[6/300] Train error:6.5349353717-->Test error:6.57631258654\n",
      "Epoch[7/300] Train error:6.3755130436-->Test error:6.41734915332\n",
      "Epoch[8/300] Train error:6.22738270971-->Test error:6.2695331415\n",
      "Epoch[9/300] Train error:6.08840242017-->Test error:6.13075216\n",
      "Epoch[10/300] Train error:5.9572108347-->Test error:5.99969154489\n",
      "Epoch[11/300] Train error:5.83289930211-->Test error:5.87544736656\n",
      "Epoch[12/300] Train error:5.71480684912-->Test error:5.75736956901\n",
      "Epoch[13/300] Train error:5.60242919587-->Test error:5.64497853112\n",
      "Epoch[14/300] Train error:5.49538279339-->Test error:5.53789450968\n",
      "Epoch[15/300] Train error:5.3933577436-->Test error:5.43581057791\n",
      "Epoch[16/300] Train error:5.29608848087-->Test error:5.33846654405\n",
      "Epoch[17/300] Train error:5.20334292783-->Test error:5.24563441415\n",
      "Epoch[18/300] Train error:5.11491452298-->Test error:5.15710488287\n",
      "Epoch[19/300] Train error:5.03063227385-->Test error:5.07270466421\n",
      "Epoch[20/300] Train error:4.95032581383-->Test error:4.99226937094\n",
      "Epoch[21/300] Train error:4.87383703475-->Test error:4.91564856862\n",
      "Epoch[22/300] Train error:4.80101905676-->Test error:4.84268832407\n",
      "Epoch[23/300] Train error:4.73172546074-->Test error:4.77325062179\n",
      "Epoch[24/300] Train error:4.66582487599-->Test error:4.70720322451\n",
      "Epoch[25/300] Train error:4.60318856943-->Test error:4.64441588091\n",
      "Epoch[26/300] Train error:4.54369259262-->Test error:4.58476078382\n",
      "Epoch[27/300] Train error:4.48720705618-->Test error:4.52811469832\n",
      "Epoch[28/300] Train error:4.43360663962-->Test error:4.4743526387\n",
      "Epoch[29/300] Train error:4.38277172073-->Test error:4.4233597602\n",
      "Epoch[30/300] Train error:4.33458446204-->Test error:4.37501290563\n",
      "Epoch[31/300] Train error:4.28892523703-->Test error:4.32919560538\n",
      "Epoch[32/300] Train error:4.24568345704-->Test error:4.28579797146\n",
      "Epoch[33/300] Train error:4.20475184971-->Test error:4.24470870328\n",
      "Epoch[34/300] Train error:4.16601764424-->Test error:4.20582153356\n",
      "Epoch[35/300] Train error:4.12937437184-->Test error:4.16903275507\n",
      "Epoch[36/300] Train error:4.09471934949-->Test error:4.13424003971\n",
      "Epoch[37/300] Train error:4.06195190314-->Test error:4.10133890071\n",
      "Epoch[38/300] Train error:4.03097653279-->Test error:4.07023604115\n",
      "Epoch[39/300] Train error:4.00170025233-->Test error:4.04083601315\n",
      "Epoch[40/300] Train error:3.97403292445-->Test error:4.01305112198\n",
      "Epoch[41/300] Train error:3.94789214895-->Test error:3.98679520282\n",
      "Epoch[42/300] Train error:3.9231950118-->Test error:3.96198719059\n",
      "Epoch[43/300] Train error:3.8998612388-->Test error:3.93854828577\n",
      "Epoch[44/300] Train error:3.87781718542-->Test error:3.91640469142\n",
      "Epoch[45/300] Train error:3.85699086055-->Test error:3.89548324471\n",
      "Epoch[46/300] Train error:3.83731370224-->Test error:3.87571731629\n",
      "Epoch[47/300] Train error:3.81872286083-->Test error:3.8570419845\n",
      "Epoch[48/300] Train error:3.80115652834-->Test error:3.83939711996\n",
      "Epoch[49/300] Train error:3.78455515411-->Test error:3.8227225412\n",
      "Epoch[50/300] Train error:3.76886472553-->Test error:3.80696323256\n",
      "Epoch[51/300] Train error:3.75403305543-->Test error:3.79206605089\n",
      "Epoch[52/300] Train error:3.74001112848-->Test error:3.77798356965\n",
      "Epoch[53/300] Train error:3.72675135059-->Test error:3.7646677596\n",
      "Epoch[54/300] Train error:3.71420998289-->Test error:3.75207685719\n",
      "Epoch[55/300] Train error:3.70234609471-->Test error:3.74016670894\n",
      "Epoch[56/300] Train error:3.69112085673-->Test error:3.72889740126\n",
      "Epoch[57/300] Train error:3.68049899913-->Test error:3.71823210371\n",
      "Epoch[58/300] Train error:3.67044416857-->Test error:3.7081363766\n",
      "Epoch[59/300] Train error:3.66092374662-->Test error:3.69857882328\n",
      "Epoch[60/300] Train error:3.65190710305-->Test error:3.68952835529\n",
      "Epoch[61/300] Train error:3.64336640059-->Test error:3.68095529524\n",
      "Epoch[62/300] Train error:3.63527368669-->Test error:3.6728319218\n",
      "Epoch[63/300] Train error:3.62760430445-->Test error:3.66513309435\n",
      "Epoch[64/300] Train error:3.62033387269-->Test error:3.65783459309\n",
      "Epoch[65/300] Train error:3.6134396721-->Test error:3.65091393674\n",
      "Epoch[66/300] Train error:3.60690076925-->Test error:3.64434943073\n",
      "Epoch[67/300] Train error:3.60069645114-->Test error:3.63812104347\n",
      "Epoch[68/300] Train error:3.59480796881-->Test error:3.63220996903\n",
      "Epoch[69/300] Train error:3.58921786848-->Test error:3.62659852437\n",
      "Epoch[70/300] Train error:3.58390958982-->Test error:3.62127018879\n",
      "Epoch[71/300] Train error:3.57886756405-->Test error:3.61621079199\n",
      "Epoch[72/300] Train error:3.5740781772-->Test error:3.61140401893\n",
      "Epoch[73/300] Train error:3.56952770513-->Test error:3.60683612113\n",
      "Epoch[74/300] Train error:3.56520200801-->Test error:3.6024943952\n",
      "Epoch[75/300] Train error:3.56108890852-->Test error:3.598366175\n",
      "Epoch[76/300] Train error:3.55717736517-->Test error:3.59443993408\n",
      "Epoch[77/300] Train error:3.55345619825-->Test error:3.59070482236\n",
      "Epoch[78/300] Train error:3.54991519834-->Test error:3.58715062428\n",
      "Epoch[79/300] Train error:3.54654498296-->Test error:3.58376771955\n",
      "Epoch[80/300] Train error:3.54333634413-->Test error:3.58054798717\n",
      "Epoch[81/300] Train error:3.54028137847-->Test error:3.57748196574\n",
      "Epoch[82/300] Train error:3.537371716-->Test error:3.57456157643\n",
      "Epoch[83/300] Train error:3.5345994924-->Test error:3.57177923464\n",
      "Epoch[84/300] Train error:3.53195784709-->Test error:3.56912778885\n",
      "Epoch[85/300] Train error:3.52944025646-->Test error:3.56660049407\n",
      "Epoch[86/300] Train error:3.52703993616-->Test error:3.56419098696\n",
      "Epoch[87/300] Train error:3.52475094316-->Test error:3.56189326259\n",
      "Epoch[88/300] Train error:3.52256760713-->Test error:3.5597016526\n",
      "Epoch[89/300] Train error:3.5204846036-->Test error:3.55761080483\n",
      "Epoch[90/300] Train error:3.51849704432-->Test error:3.55561566422\n",
      "Epoch[91/300] Train error:3.51660008544-->Test error:3.5537114549\n",
      "Epoch[92/300] Train error:3.51478918087-->Test error:3.55189390845\n",
      "Epoch[93/300] Train error:3.51306008534-->Test error:3.55015869192\n",
      "Epoch[94/300] Train error:3.51140878431-->Test error:3.54850157588\n",
      "Epoch[95/300] Train error:3.50983148845-->Test error:3.54691874445\n",
      "Epoch[96/300] Train error:3.50832465431-->Test error:3.5454065875\n",
      "Epoch[97/300] Train error:3.50688553753-->Test error:3.54396168822\n",
      "Epoch[98/300] Train error:3.50551037002-->Test error:3.54258112708\n",
      "Epoch[99/300] Train error:3.50419622314-->Test error:3.5412619689\n",
      "Epoch[100/300] Train error:3.50293995605-->Test error:3.54000085661\n",
      "Epoch[101/300] Train error:3.50173876157-->Test error:3.5387950407\n",
      "Epoch[102/300] Train error:3.50059004582-->Test error:3.53764191512\n",
      "Epoch[103/300] Train error:3.49949134941-->Test error:3.53653900902\n",
      "Epoch[104/300] Train error:3.49844033982-->Test error:3.53548397909\n",
      "Epoch[105/300] Train error:3.49743480418-->Test error:3.53447460234\n",
      "Epoch[106/300] Train error:3.49647264255-->Test error:3.53350876928\n",
      "Epoch[107/300] Train error:3.49555189589-->Test error:3.53258447761\n",
      "Epoch[108/300] Train error:3.49467094769-->Test error:3.53169982621\n",
      "Epoch[109/300] Train error:3.49382768468-->Test error:3.53085300954\n",
      "Epoch[110/300] Train error:3.49302039916-->Test error:3.53004231232\n",
      "Epoch[111/300] Train error:3.49224746834-->Test error:3.52926610462\n",
      "Epoch[112/300] Train error:3.49150734965-->Test error:3.52852283717\n",
      "Epoch[113/300] Train error:3.49079857646-->Test error:3.52781103697\n",
      "Epoch[114/300] Train error:3.49011975391-->Test error:3.52712930317\n",
      "Epoch[115/300] Train error:3.48946955506-->Test error:3.52647630318\n",
      "Epoch[116/300] Train error:3.48884671727-->Test error:3.52585076903\n",
      "Epoch[117/300] Train error:3.48825003878-->Test error:3.52525149387\n",
      "Epoch[118/300] Train error:3.48767837546-->Test error:3.52467732882\n",
      "Epoch[119/300] Train error:3.48713063778-->Test error:3.52412717983\n",
      "Epoch[120/300] Train error:3.48660578796-->Test error:3.52360000484\n",
      "Epoch[121/300] Train error:3.48610283725-->Test error:3.52309481107\n",
      "Epoch[122/300] Train error:3.4856208434-->Test error:3.52261065244\n",
      "Epoch[123/300] Train error:3.48515895471-->Test error:3.52214662717\n",
      "Epoch[124/300] Train error:3.48471628-->Test error:3.52170187549\n",
      "Epoch[125/300] Train error:3.4842919885-->Test error:3.52127557752\n",
      "Epoch[126/300] Train error:3.48388530136-->Test error:3.5208669512\n",
      "Epoch[127/300] Train error:3.48349547546-->Test error:3.52047525038\n"
     ]
    },
    {
     "name": "stdout",
     "output_type": "stream",
     "text": [
      "Epoch[128/300] Train error:3.48312180166-->Test error:3.52009976306\n",
      "Epoch[129/300] Train error:3.48276360306-->Test error:3.51973980961\n",
      "Epoch[130/300] Train error:3.48242023342-->Test error:3.5193947412\n",
      "Epoch[131/300] Train error:3.48209107563-->Test error:3.51906393825\n",
      "Epoch[132/300] Train error:3.48177554024-->Test error:3.51874680899\n",
      "Epoch[133/300] Train error:3.48147306417-->Test error:3.5184427881\n",
      "Epoch[134/300] Train error:3.48118310936-->Test error:3.51815133541\n",
      "Epoch[135/300] Train error:3.48090516156-->Test error:3.51787193467\n",
      "Epoch[136/300] Train error:3.48063872921-->Test error:3.51760409241\n",
      "Epoch[137/300] Train error:3.48038334231-->Test error:3.51734733681\n",
      "Epoch[138/300] Train error:3.48013855585-->Test error:3.5171012167\n",
      "Epoch[139/300] Train error:3.4799039503-->Test error:3.51686530055\n",
      "Epoch[140/300] Train error:3.4796790986-->Test error:3.51663917552\n",
      "Epoch[141/300] Train error:3.4794636073-->Test error:3.51642244663\n",
      "Epoch[142/300] Train error:3.47925709987-->Test error:3.51621473585\n",
      "Epoch[143/300] Train error:3.47905921588-->Test error:3.51601568138\n",
      "Epoch[144/300] Train error:3.47886961029-->Test error:3.51582493682\n",
      "Epoch[145/300] Train error:3.4786879527-->Test error:3.5156421705\n",
      "Epoch[146/300] Train error:3.47851392671-->Test error:3.5154670648\n",
      "Epoch[147/300] Train error:3.47834722923-->Test error:3.51529948752\n",
      "Epoch[148/300] Train error:3.47818756992-->Test error:3.51513900436\n",
      "Epoch[149/300] Train error:3.47803467057-->Test error:3.51498530214\n",
      "Epoch[150/300] Train error:3.47788826456-->Test error:3.51483811333\n",
      "Epoch[151/300] Train error:3.47774809636-->Test error:3.51469718154\n",
      "Epoch[152/300] Train error:3.47761392098-->Test error:3.51456226098\n",
      "Epoch[153/300] Train error:3.47748550356-->Test error:3.51443311599\n",
      "Epoch[154/300] Train error:3.47736261887-->Test error:3.51430952061\n",
      "Epoch[155/300] Train error:3.4772450509-->Test error:3.51419125811\n",
      "Epoch[156/300] Train error:3.47713259377-->Test error:3.51407812064\n",
      "Epoch[157/300] Train error:3.47702504794-->Test error:3.51396990877\n",
      "Epoch[158/300] Train error:3.4769222221-->Test error:3.51386643116\n",
      "Epoch[159/300] Train error:3.47682393324-->Test error:3.51376750422\n",
      "Epoch[160/300] Train error:3.4767300057-->Test error:3.51367295174\n",
      "Epoch[161/300] Train error:3.47664027087-->Test error:3.51358260457\n",
      "Epoch[162/300] Train error:3.47655456689-->Test error:3.51349630035\n",
      "Epoch[163/300] Train error:3.47647273834-->Test error:3.51341388318\n",
      "Epoch[164/300] Train error:3.476394636-->Test error:3.51333520337\n",
      "Epoch[165/300] Train error:3.47632011654-->Test error:3.51326011714\n",
      "Epoch[166/300] Train error:3.47624904229-->Test error:3.51318848643\n",
      "Epoch[167/300] Train error:3.47618128102-->Test error:3.51312017858\n",
      "Epoch[168/300] Train error:3.47611670567-->Test error:3.51305506617\n",
      "Epoch[169/300] Train error:3.47605519418-->Test error:3.51299302677\n",
      "Epoch[170/300] Train error:3.47599662924-->Test error:3.51293394271\n",
      "Epoch[171/300] Train error:3.4759408981-->Test error:3.51287770092\n",
      "Epoch[172/300] Train error:3.47588789241-->Test error:3.51282419272\n",
      "Epoch[173/300] Train error:3.475837508-->Test error:3.51277331365\n",
      "Epoch[174/300] Train error:3.47578964472-->Test error:3.51272496326\n",
      "Epoch[175/300] Train error:3.4757442063-->Test error:3.51267904501\n",
      "Epoch[176/300] Train error:3.47570110013-->Test error:3.51263546603\n",
      "Epoch[177/300] Train error:3.4756602372-->Test error:3.51259413704\n",
      "Epoch[178/300] Train error:3.47562153185-->Test error:3.51255497216\n",
      "Epoch[179/300] Train error:3.47558490172-->Test error:3.51251788879\n",
      "Epoch[180/300] Train error:3.47555026758-->Test error:3.51248280748\n",
      "Epoch[181/300] Train error:3.47551755319-->Test error:3.51244965178\n",
      "Epoch[182/300] Train error:3.47548668522-->Test error:3.51241834816\n",
      "Epoch[183/300] Train error:3.4754575931-->Test error:3.51238882585\n",
      "Epoch[184/300] Train error:3.4754302089-->Test error:3.51236101675\n",
      "Epoch[185/300] Train error:3.47540446729-->Test error:3.51233485535\n",
      "Epoch[186/300] Train error:3.47538030536-->Test error:3.51231027856\n",
      "Epoch[187/300] Train error:3.47535766255-->Test error:3.51228722568\n",
      "Epoch[188/300] Train error:3.47533648059-->Test error:3.51226563827\n",
      "Epoch[189/300] Train error:3.47531670336-->Test error:3.51224546008\n",
      "Epoch[190/300] Train error:3.47529827686-->Test error:3.51222663694\n",
      "Epoch[191/300] Train error:3.47528114918-->Test error:3.51220911672\n",
      "Epoch[192/300] Train error:3.47526527164-->Test error:3.5121928492\n",
      "Epoch[193/300] Train error:3.47525059446-->Test error:3.51217778602\n",
      "Epoch[194/300] Train error:3.4752370712-->Test error:3.51216388063\n",
      "Epoch[195/300] Train error:3.47522465712-->Test error:3.51215108819\n",
      "Epoch[196/300] Train error:3.47521330915-->Test error:3.5121393655\n",
      "Epoch[197/300] Train error:3.47520298579-->Test error:3.51212867095\n",
      "Epoch[198/300] Train error:3.47519364706-->Test error:3.51211896448\n",
      "Epoch[199/300] Train error:3.47518525445-->Test error:3.51211020748\n",
      "Epoch[200/300] Train error:3.47517777086-->Test error:3.51210236277\n",
      "Epoch[201/300] Train error:3.47517116055-->Test error:3.5120953945\n",
      "Epoch[202/300] Train error:3.47516538907-->Test error:3.51208926817\n",
      "Epoch[203/300] Train error:3.47516042326-->Test error:3.5120839505\n",
      "Epoch[204/300] Train error:3.47515623112-->Test error:3.51207940946\n",
      "Epoch[205/300] Train error:3.47515278186-->Test error:3.51207561414\n",
      "Epoch[206/300] Train error:3.47515004578-->Test error:3.5120725348\n",
      "Epoch[207/300] Train error:3.47514799426-->Test error:3.51207014276\n",
      "Epoch[208/300] Train error:3.47514659972-->Test error:3.51206841036\n",
      "Epoch[209/300] Train error:3.47514583559-->Test error:3.51206731097\n",
      "Epoch[210/300] Train error:3.47514567625-->Test error:3.51206681891\n",
      "Epoch[211/300] Train error:3.475146097-->Test error:3.51206690944\n",
      "Epoch[212/300] Train error:3.47514707405-->Test error:3.51206755871\n",
      "Epoch[213/300] Train error:3.47514858446-->Test error:3.51206874371\n",
      "Epoch[214/300] Train error:3.47515060611-->Test error:3.51207044229\n",
      "Epoch[215/300] Train error:3.47515311767-->Test error:3.51207263308\n",
      "Epoch[216/300] Train error:3.47515609862-->Test error:3.51207529549\n",
      "Epoch[217/300] Train error:3.47515952912-->Test error:3.51207840966\n",
      "Epoch[218/300] Train error:3.47516339009-->Test error:3.51208195646\n",
      "Epoch[219/300] Train error:3.47516766311-->Test error:3.51208591743\n",
      "Epoch[220/300] Train error:3.47517233044-->Test error:3.51209027479\n",
      "Epoch[221/300] Train error:3.47517737496-->Test error:3.51209501138\n",
      "Epoch[222/300] Train error:3.47518278018-->Test error:3.51210011069\n",
      "Epoch[223/300] Train error:3.47518853019-->Test error:3.51210555676\n",
      "Epoch[224/300] Train error:3.47519460965-->Test error:3.51211133423\n",
      "Epoch[225/300] Train error:3.47520100379-->Test error:3.5121174283\n",
      "Epoch[226/300] Train error:3.47520769836-->Test error:3.51212382467\n",
      "Epoch[227/300] Train error:3.47521467961-->Test error:3.51213050959\n",
      "Epoch[228/300] Train error:3.47522193429-->Test error:3.51213746977\n",
      "Epoch[229/300] Train error:3.47522944964-->Test error:3.51214469242\n",
      "Epoch[230/300] Train error:3.47523721334-->Test error:3.5121521652\n",
      "Epoch[231/300] Train error:3.47524521352-->Test error:3.51215987622\n",
      "Epoch[232/300] Train error:3.47525343875-->Test error:3.51216781401\n",
      "Epoch[233/300] Train error:3.47526187799-->Test error:3.51217596753\n",
      "Epoch[234/300] Train error:3.4752705206-->Test error:3.51218432611\n",
      "Epoch[235/300] Train error:3.47527935635-->Test error:3.51219287949\n",
      "Epoch[236/300] Train error:3.47528837534-->Test error:3.51220161776\n",
      "Epoch[237/300] Train error:3.47529756805-->Test error:3.51221053138\n",
      "Epoch[238/300] Train error:3.4753069253-->Test error:3.51221961116\n",
      "Epoch[239/300] Train error:3.47531643825-->Test error:3.51222884822\n",
      "Epoch[240/300] Train error:3.47532609837-->Test error:3.51223823403\n",
      "Epoch[241/300] Train error:3.47533589743-->Test error:3.51224776035\n",
      "Epoch[242/300] Train error:3.47534582752-->Test error:3.51225741924\n",
      "Epoch[243/300] Train error:3.47535588101-->Test error:3.51226720306\n",
      "Epoch[244/300] Train error:3.47536605054-->Test error:3.51227710443\n",
      "Epoch[245/300] Train error:3.47537632902-->Test error:3.51228711626\n",
      "Epoch[246/300] Train error:3.47538670963-->Test error:3.5122972317\n",
      "Epoch[247/300] Train error:3.4753971858-->Test error:3.51230744417\n",
      "Epoch[248/300] Train error:3.47540775117-->Test error:3.51231774732\n",
      "Epoch[249/300] Train error:3.47541839966-->Test error:3.51232813502\n",
      "Epoch[250/300] Train error:3.47542912537-->Test error:3.5123386014\n"
     ]
    },
    {
     "name": "stdout",
     "output_type": "stream",
     "text": [
      "Epoch[251/300] Train error:3.47543992266-->Test error:3.51234914077\n",
      "Epoch[252/300] Train error:3.47545078607-->Test error:3.51235974767\n",
      "Epoch[253/300] Train error:3.47546171034-->Test error:3.51237041685\n",
      "Epoch[254/300] Train error:3.47547269042-->Test error:3.51238114323\n",
      "Epoch[255/300] Train error:3.47548372145-->Test error:3.51239192195\n",
      "Epoch[256/300] Train error:3.47549479875-->Test error:3.5124027483\n",
      "Epoch[257/300] Train error:3.4755059178-->Test error:3.51241361777\n",
      "Epoch[258/300] Train error:3.47551707426-->Test error:3.51242452601\n",
      "Epoch[259/300] Train error:3.47552826396-->Test error:3.51243546885\n",
      "Epoch[260/300] Train error:3.47553948289-->Test error:3.51244644224\n",
      "Epoch[261/300] Train error:3.47555072719-->Test error:3.51245744233\n",
      "Epoch[262/300] Train error:3.47556199312-->Test error:3.51246846538\n",
      "Epoch[263/300] Train error:3.47557327713-->Test error:3.51247950782\n",
      "Epoch[264/300] Train error:3.47558457578-->Test error:3.5124905662\n",
      "Epoch[265/300] Train error:3.47559588576-->Test error:3.51250163722\n",
      "Epoch[266/300] Train error:3.4756072039-->Test error:3.51251271769\n",
      "Epoch[267/300] Train error:3.47561852715-->Test error:3.51252380455\n",
      "Epoch[268/300] Train error:3.47562985258-->Test error:3.51253489486\n",
      "Epoch[269/300] Train error:3.47564117737-->Test error:3.51254598582\n",
      "Epoch[270/300] Train error:3.47565249883-->Test error:3.51255707469\n",
      "Epoch[271/300] Train error:3.47566381435-->Test error:3.51256815889\n",
      "Epoch[272/300] Train error:3.47567512146-->Test error:3.51257923592\n",
      "Epoch[273/300] Train error:3.47568641774-->Test error:3.51259030338\n",
      "Epoch[274/300] Train error:3.47569770093-->Test error:3.51260135896\n",
      "Epoch[275/300] Train error:3.47570896881-->Test error:3.51261240048\n",
      "Epoch[276/300] Train error:3.47572021927-->Test error:3.5126234258\n",
      "Epoch[277/300] Train error:3.4757314503-->Test error:3.51263443291\n",
      "Epoch[278/300] Train error:3.47574265997-->Test error:3.51264541987\n",
      "Epoch[279/300] Train error:3.47575384641-->Test error:3.51265638481\n",
      "Epoch[280/300] Train error:3.47576500785-->Test error:3.51266732595\n",
      "Epoch[281/300] Train error:3.47577614259-->Test error:3.51267824159\n",
      "Epoch[282/300] Train error:3.47578724902-->Test error:3.51268913009\n",
      "Epoch[283/300] Train error:3.47579832556-->Test error:3.51269998991\n",
      "Epoch[284/300] Train error:3.47580937074-->Test error:3.51271081954\n",
      "Epoch[285/300] Train error:3.47582038315-->Test error:3.51272161756\n",
      "Epoch[286/300] Train error:3.47583136141-->Test error:3.51273238261\n",
      "Epoch[287/300] Train error:3.47584230425-->Test error:3.5127431134\n",
      "Epoch[288/300] Train error:3.47585321042-->Test error:3.51275380868\n",
      "Epoch[289/300] Train error:3.47586407875-->Test error:3.51276446728\n",
      "Epoch[290/300] Train error:3.47587490812-->Test error:3.51277508806\n",
      "Epoch[291/300] Train error:3.47588569747-->Test error:3.51278566996\n",
      "Epoch[292/300] Train error:3.47589644577-->Test error:3.51279621195\n",
      "Epoch[293/300] Train error:3.47590715207-->Test error:3.51280671307\n",
      "Epoch[294/300] Train error:3.47591781545-->Test error:3.5128171724\n",
      "Epoch[295/300] Train error:3.47592843504-->Test error:3.51282758906\n",
      "Epoch[296/300] Train error:3.47593901001-->Test error:3.51283796222\n",
      "Epoch[297/300] Train error:3.47594953958-->Test error:3.5128482911\n",
      "Epoch[298/300] Train error:3.47596002302-->Test error:3.51285857495\n",
      "Epoch[299/300] Train error:3.47597045963-->Test error:3.51286881307\n",
      "Epoch[300/300] Train error:3.47598084875-->Test error:3.51287900479\n"
     ]
    }
   ],
   "source": [
    "from sklearn.metrics import mean_absolute_error\n",
    "\n",
    "train_errors = []\n",
    "test_errors = []\n",
    "\n",
    "#Only consider non-zero matrix \n",
    "users,items = R.nonzero()      \n",
    "for epoch in range(n_epochs):\n",
    "    error = 0\n",
    "    for u, i in zip(users,items):\n",
    "        e = R[u, i] - prediction(P[:,u],Q[:,i])  # Calculate error for gradient\n",
    "        P[:,u] += gamma * ( e * Q[:,i] - lmbda * P[:,u]) # Update latent user feature matrix\n",
    "        Q[:,i] += gamma * ( e * P[:,u] - lmbda * Q[:,i])  # Update latent movie feature matrix\n",
    "        error += e\n",
    "        #print(P)\n",
    "#     print(abs(error/users.shape[0]))\n",
    "#     train_rmse = rmse(I,R,Q,P) # Calculate root mean squared error from train dataset\n",
    "#     test_rmse = rmse(I2,T,Q,P) # Calculate root mean squared error from test dataset\n",
    "#     train_mae = mae(I,R,Q,P)\n",
    "#     test_mae = mae(I2,T,Q,P)\n",
    "    train_mae = mean_absolute_error(R, np.dot(P.T,Q))\n",
    "    test_mae = mean_absolute_error(T, np.dot(P.T,Q))\n",
    "    train_errors.append(train_mae)\n",
    "    test_errors.append(test_mae)\n",
    "    print(\"Epoch[\"+ str(epoch+1) + \"/\" + str(n_epochs) + \"] Train error:\" + str(train_mae) + \"-->Test error:\" + str(test_mae))"
   ]
  },
  {
   "cell_type": "code",
   "execution_count": null,
   "metadata": {},
   "outputs": [],
   "source": [
    "from sklearn.metrics import mean_absolute_error\n",
    "\n",
    "mean_absolute_error(T, np.dot(P.T,Q))"
   ]
  },
  {
   "cell_type": "code",
   "execution_count": 26,
   "metadata": {},
   "outputs": [
    {
     "data": {
      "image/png": "[encoded data removed]",
      "text/plain": [
       "<matplotlib.figure.Figure at 0x7fc43098aa20>"
      ]
     },
     "metadata": {},
     "output_type": "display_data"
    }
   ],
   "source": [
    "# Check performance by plotting train and test errors\n",
    "import matplotlib.pyplot as plt\n",
    "%matplotlib inline\n",
    "\n",
    "plt.plot(range(n_epochs), train_errors, marker='o', label='Training Data');\n",
    "plt.plot(range(n_epochs), test_errors, marker='v', label='Test Data');\n",
    "plt.title('SGD-WR Learning Curve')\n",
    "plt.xlabel('Number of Epochs');\n",
    "plt.ylabel('RMSE');\n",
    "plt.legend()\n",
    "plt.grid()\n",
    "plt.show()"
   ]
  },
  {
   "cell_type": "code",
   "execution_count": null,
   "metadata": {
    "collapsed": true
   },
   "outputs": [],
   "source": [
    "# Calculate prediction matrix R_hat (low-rank approximation for R)\n",
    "R = pd.DataFrame(R)\n",
    "R_hat=pd.DataFrame(prediction(P,Q))"
   ]
  },
  {
   "cell_type": "code",
   "execution_count": null,
   "metadata": {},
   "outputs": [],
   "source": [
    "# Compare true ratings of user 17 with predictions\n",
    "ratings = pd.DataFrame(data=R.loc[16,R.loc[16,:] > 0]).head(n=5)\n",
    "ratings['Prediction'] = R_hat.loc[16,R.loc[16,:] > 0]\n",
    "ratings.columns = ['Actual Rating', 'Predicted Rating']\n",
    "ratings"
   ]
  },
  {
   "cell_type": "code",
   "execution_count": null,
   "metadata": {
    "collapsed": true
   },
   "outputs": [],
   "source": []
  }
 ],
 "metadata": {
  "anaconda-cloud": {},
  "kernelspec": {
   "display_name": "Python 3",
   "language": "python",
   "name": "python3"
  },
  "language_info": {
   "codemirror_mode": {
    "name": "ipython",
    "version": 3
   },
   "file_extension": ".py",
   "mimetype": "text/x-python",
   "name": "python",
   "nbconvert_exporter": "python",
   "pygments_lexer": "ipython3",
   "version": "3.6.1"
  }
 },
 "nbformat": 4,
 "nbformat_minor": 1
}

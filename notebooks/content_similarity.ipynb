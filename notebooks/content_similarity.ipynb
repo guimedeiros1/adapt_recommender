{
 "cells": [
  {
   "cell_type": "markdown",
   "metadata": {},
   "source": [
    "## First job: load the csv file and compute the tf-idf matrix"
   ]
  },
  {
   "cell_type": "code",
   "execution_count": 14,
   "metadata": {},
   "outputs": [
    {
     "data": {
      "text/plain": [
       "(405, 8)"
      ]
     },
     "execution_count": 14,
     "metadata": {},
     "output_type": "execute_result"
    }
   ],
   "source": [
    "import numpy as np\n",
    "import pandas as pd\n",
    "from sklearn.feature_extraction.text import TfidfVectorizer\n",
    "\n",
    "#load csv to a pd DataFrame\n",
    "movies = pd.read_csv('./data/movies.csv', quotechar='\"', names=[\"url\", \"description\", \"rationale\", \"benefits\", \"problems\", \"objectives\", \"content\", \"title\"])\n",
    "\n",
    "movies.shape"
   ]
  },
  {
   "cell_type": "code",
   "execution_count": 15,
   "metadata": {},
   "outputs": [],
   "source": [
    "#model instantiation\n",
    "vectorizer = TfidfVectorizer(min_df=1) \n",
    "\n",
    "#tokenize and compute tf-idf weights\n",
    "tfidf = vectorizer.fit_transform(movies.content)"
   ]
  },
  {
   "cell_type": "markdown",
   "metadata": {},
   "source": [
    "## Second job: Compute the cosine similarity between each video and select the most similar ones"
   ]
  },
  {
   "cell_type": "code",
   "execution_count": 16,
   "metadata": {
    "scrolled": true
   },
   "outputs": [],
   "source": [
    "from sklearn.metrics.pairwise import cosine_similarity\n",
    "\n",
    "#compute the similarity between movies \n",
    "similar = cosine_similarity(tfidf) \n",
    "\n",
    "#take the top-k most similar movies\n",
    "most_similar = similar.argsort()[:,::-1][:,:6]"
   ]
  },
  {
   "cell_type": "code",
   "execution_count": 18,
   "metadata": {},
   "outputs": [
    {
     "data": {
      "text/plain": [
       "array([[  0, 364, 306,   9, 154,  18],\n",
       "       [  1, 381,  16, 154, 213, 128],\n",
       "       [  2,   9, 154, 138, 126, 127],\n",
       "       ..., \n",
       "       [402,  63, 166, 235, 253, 342],\n",
       "       [403,  90, 364, 154,   9,  10],\n",
       "       [404,   9, 192,  55, 213, 128]])"
      ]
     },
     "execution_count": 18,
     "metadata": {},
     "output_type": "execute_result"
    }
   ],
   "source": [
    "most_similar"
   ]
  },
  {
   "cell_type": "markdown",
   "metadata": {},
   "source": [
    "## Third job: return the most similar videos"
   ]
  },
  {
   "cell_type": "code",
   "execution_count": 27,
   "metadata": {
    "collapsed": true
   },
   "outputs": [],
   "source": [
    "movie_id = 152"
   ]
  },
  {
   "cell_type": "code",
   "execution_count": 28,
   "metadata": {},
   "outputs": [
    {
     "name": "stdout",
     "output_type": "stream",
     "text": [
      "The most similar videos are:\n",
      "Name: The Glass Menagerie\n",
      "Cosine similarity score: 1.000000 \n",
      "\n",
      "Name: A Raisin in the Sun\n",
      "Cosine similarity score: 0.450078 \n",
      "\n",
      "Name: Looking For Richard\n",
      "Cosine similarity score: 0.342099 \n",
      "\n",
      "Name: Twelfth Night\n",
      "Cosine similarity score: 0.325148 \n",
      "\n",
      "Name: Fly Away Home\n",
      "Cosine similarity score: 0.314620 \n",
      "\n",
      "Name: Ancient Alexandria, Hypatia, and the Decline of Greco-Roman Civilization — using the Film Agora\n",
      "Cosine similarity score: 0.312906 \n",
      "\n"
     ]
    }
   ],
   "source": [
    "print(\"The most similar videos are:\")\n",
    "\n",
    "#print the top-k movies\n",
    "for i in range (0,most_similar.shape[1]):\n",
    "    print (\"Name: %s\" %movies.title.iloc[most_similar[movie_id,i]])\n",
    "    print (\"Cosine similarity score: %f \\n\" %similar[movie_id,most_similar[movie_id,i]])"
   ]
  },
  {
   "cell_type": "code",
   "execution_count": null,
   "metadata": {
    "collapsed": true
   },
   "outputs": [],
   "source": []
  }
 ],
 "metadata": {
  "anaconda-cloud": {},
  "kernelspec": {
   "display_name": "Python 3",
   "language": "python",
   "name": "python3"
  },
  "language_info": {
   "codemirror_mode": {
    "name": "ipython",
    "version": 3
   },
   "file_extension": ".py",
   "mimetype": "text/x-python",
   "name": "python",
   "nbconvert_exporter": "python",
   "pygments_lexer": "ipython3",
   "version": "3.6.1"
  }
 },
 "nbformat": 4,
 "nbformat_minor": 1
}
